{
 "cells": [
  {
   "cell_type": "markdown",
   "metadata": {},
   "source": [
    "### Plausibility filter to filter out unreasonable values for each feature\n",
    "* Set db_name variable accordingly befor running the code: db_name $\\in$ {'ism', 'stm', 'banner'}"
   ]
  },
  {
   "cell_type": "code",
   "execution_count": 1,
   "metadata": {
    "collapsed": true
   },
   "outputs": [],
   "source": [
    "import os\n",
    "import numpy as np\n",
    "import pandas as pd\n",
    "import pickle\n",
    "import re\n",
    "fileDir = os.path.dirname('__file__')\n",
    "\n",
    "\n",
    "db_name = 'ism'\n",
    "# db_name should be either one of {'ism', 'stm', 'banner'}"
   ]
  },
  {
   "cell_type": "markdown",
   "metadata": {},
   "source": [
    "### Plausibility filter"
   ]
  },
  {
   "cell_type": "code",
   "execution_count": 2,
   "metadata": {
    "collapsed": false
   },
   "outputs": [],
   "source": [
    "pl_flt = {'urine': [0, 20], \n",
    "          'hemoglobin': [0, 20],\n",
    "          'nsbp': [0, 200],\n",
    "          'ndbp': [0, 200],\n",
    "          'osi': [0, 70], \n",
    "          'lactic_acid': [0, 120], \n",
    "          'hr': [0, 200], \n",
    "          'creatinine': [0, 1.8],\n",
    "          'albumin': [0, 6],\n",
    "          'glucose': [0, 600],\n",
    "          'si': [0, 5],          \n",
    "          'fio2': [0, 1],\n",
    "          'spo2': [60, 100],\n",
    "          'oi': [0, 70],\n",
    "          'platelet': [0, 1000],\n",
    "          'potassium': [1, 12],\n",
    "          'si': [0, 5],\n",
    "          'spo2': [60, 100],\n",
    "          'temperature': [32, 42],\n",
    "          'urine': [0, 20],\n",
    "          'wbc': [0, 50]\n",
    "         }"
   ]
  },
  {
   "cell_type": "code",
   "execution_count": 3,
   "metadata": {
    "collapsed": true
   },
   "outputs": [],
   "source": [
    "def filterPlausible(io_df, db_name):\n",
    "    for ft in pl_flt:\n",
    "        pl_range = pl_flt[ft]\n",
    "        pattern = re.compile('^{}_'.format(ft))\n",
    "        cols = [col for col in io_df.columns if pattern.match(col)]\n",
    "        if (db_name=='stm') & (ft=='lactic_acid'):\n",
    "            io_df.loc[:,cols] = io_df.loc[:,cols]*9.009\n",
    "        elif (db_name=='stm') & (ft=='glucose'):\n",
    "            io_df.loc[:,cols] = io_df.loc[:,cols]*18.0182\n",
    "        elif (db_name=='stm') & (ft=='albumin'):\n",
    "            io_df.loc[:,cols] = io_df.loc[:,cols]*0.1\n",
    "        elif (db_name=='banner') & (ft=='lactic_acid'):\n",
    "            io_df.loc[:,cols] = io_df.loc[:,cols]*9.009\n",
    "        \n",
    "        tmp_df = io_df.loc[:,cols]\n",
    "        mask = (tmp_df<=pl_range[0]) | (tmp_df>=pl_range[1])\n",
    "        tmp_df[mask] = np.NaN\n",
    "        io_df.loc[:, cols] = tmp_df\n",
    "        \n",
    "        if (db_name=='stm') & (ft=='lactic_acid'):\n",
    "            io_df.loc[:,cols] = io_df.loc[:,cols]*1.0/9.009\n",
    "        elif (db_name=='stm') & (ft=='glucose'):\n",
    "            io_df.loc[:,cols] = io_df.loc[:,cols]*1.0/18.0182\n",
    "        elif (db_name=='stm') & (ft=='albumin'):\n",
    "            io_df.loc[:,cols] = io_df.loc[:,cols]*1.0/0.1\n",
    "        elif (db_name=='banner') & (ft=='lactic_acid'):\n",
    "            io_df.loc[:,cols] = io_df.loc[:,cols]*1.0/9.009\n",
    "    \n",
    "    return io_df\n",
    "        "
   ]
  },
  {
   "cell_type": "code",
   "execution_count": 4,
   "metadata": {
    "collapsed": true
   },
   "outputs": [],
   "source": [
    "def wrapper(combination, ioDir_from, ioDir_to, db_name):\n",
    "    for tlag, twin in combination:\n",
    "        fname_con = os.path.join(fileDir, ioDir_from, \n",
    "                                 '{}_onset_io_tlag{:03d}_twin{:03d}_con.pkl'.format(db_name, abs(tlag), twin))\n",
    "        fname_aki = os.path.join(fileDir, ioDir_from, \n",
    "                                 '{}_onset_io_tlag{:03d}_twin{:03d}_aki.pkl'.format(db_name, abs(tlag), twin))\n",
    "        f_con = open(fname_con, 'rb')\n",
    "        io_con = pickle.load(f_con)\n",
    "        f_con.close()\n",
    "        \n",
    "        f_aki = open(fname_aki, 'rb')\n",
    "        io_aki = pickle.load(f_aki)\n",
    "        f_aki.close()\n",
    "        \n",
    "        io_con = filterPlausible(io_con, db_name)\n",
    "        io_aki = filterPlausible(io_aki, db_name)\n",
    "        \n",
    "        fname2_con = os.path.join(fileDir, ioDir_to,\n",
    "                                  '{}_onset_io_tlag{:03d}_twin{:03d}_con.pkl'.format(db_name, abs(tlag), twin))\n",
    "        fname2_aki = os.path.join(fileDir, ioDir_to, \n",
    "                                  '{}_onset_io_tlag{:03d}_twin{:03d}_aki.pkl'.format(db_name, abs(tlag), twin))\n",
    "        \n",
    "        io_con.to_pickle(fname2_con)\n",
    "        io_aki.to_pickle(fname2_aki)"
   ]
  },
  {
   "cell_type": "code",
   "execution_count": 5,
   "metadata": {
    "collapsed": false
   },
   "outputs": [],
   "source": [
    "timelag = np.arange(-6,-25,-1)\n",
    "timewin = [6, 12]\n",
    "combination = [(tlag, twin) for tlag in timelag for twin in timewin if abs(tlag)>=twin]\n",
    "\n",
    "\n",
    "\n",
    "if db_name=='ism':\n",
    "    if not os.path.exists(os.path.join(fileDir, 'io_ism3')):\n",
    "        os.makedirs(os.path.join(fileDir, 'io_ism3'))\n",
    "    wrapper(combination, 'io_ism2', 'io_ism3', 'ism')\n",
    "elif db_name=='stm':\n",
    "    if not os.path.exists(os.path.join(fileDir, 'io_stm3')):\n",
    "        os.makedirs(os.path.join(fileDir, 'io_stm3'))\n",
    "    wrapper(combination, 'io_stm2', 'io_stm3', 'stm')\n",
    "elif db_name=='banner':\n",
    "    if not os.path.exists(os.path.join(fileDir, 'io_banner3')):\n",
    "        os.makedirs(os.path.join(fileDir, 'io_banner3'))\n",
    "    wrapper(combination, 'io_banner2', 'io_banner3', 'banner')"
   ]
  }
 ],
 "metadata": {
  "anaconda-cloud": {},
  "kernelspec": {
   "display_name": "Python [Root]",
   "language": "python",
   "name": "Python [Root]"
  },
  "language_info": {
   "codemirror_mode": {
    "name": "ipython",
    "version": 2
   },
   "file_extension": ".py",
   "mimetype": "text/x-python",
   "name": "python",
   "nbconvert_exporter": "python",
   "pygments_lexer": "ipython2",
   "version": "2.7.11"
  }
 },
 "nbformat": 4,
 "nbformat_minor": 0
}
