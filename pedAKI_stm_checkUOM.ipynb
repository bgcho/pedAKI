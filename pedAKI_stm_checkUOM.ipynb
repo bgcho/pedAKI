{
 "cells": [
  {
   "cell_type": "markdown",
   "metadata": {},
   "source": [
    "### Script to check UOM of ISM and STM"
   ]
  },
  {
   "cell_type": "code",
   "execution_count": 1,
   "metadata": {
    "collapsed": true
   },
   "outputs": [],
   "source": [
    "import stm_utilities as stm\n",
    "import os\n",
    "import pickle"
   ]
  },
  {
   "cell_type": "code",
   "execution_count": 2,
   "metadata": {
    "collapsed": true
   },
   "outputs": [],
   "source": [
    "stmdb = stm.queryDB()"
   ]
  },
  {
   "cell_type": "code",
   "execution_count": 2,
   "metadata": {
    "collapsed": false
   },
   "outputs": [],
   "source": [
    "fileDir = os.path.dirname(\"__file__\")\n",
    "f2 = open(os.path.join(fileDir, \"pickle_files_stm\", \"feature_dict_stm.pkl\"), 'rb')\n",
    "feature_dict = pickle.load(f2)\n",
    "f2.close()\n",
    "\n",
    "feature_wanted = ['albumin', 'creatinine', 'glucose', 'hemoglobin', 'hr', \n",
    "                  'lactic_acid', 'ndbp', 'nsbp', 'ph', 'platelet',\n",
    "                  'potassium', 'ratio_pao2_flo2', 'spo2', 'temperature', \n",
    "                  'urine', 'wbc']\n",
    "feature_ids = {feature: feature_dict[feature] for feature in feature_wanted}"
   ]
  },
  {
   "cell_type": "code",
   "execution_count": 10,
   "metadata": {
    "collapsed": false
   },
   "outputs": [
    {
     "name": "stdout",
     "output_type": "stream",
     "text": [
      "platelet uom: [u'10^9/L' u'nan']\n",
      "wbc uom: [u'10^9/L' u'nan']\n",
      "hemoglobin uom: [u'g/dL' u'nan']\n",
      "urine uom: [u'mls/kg/hr']\n",
      "potassium uom: [u'mmol/l' u'mmol/L' u'nan']\n",
      "ndbp uom: [u'mmHg']\n",
      "nsbp uom: [u'mmHg']\n",
      "hr uom: [u'bpm']\n",
      "lactic_acid uom: [u'mmol/l' u'mmol/L']\n",
      "temperature uom: [u'Deg. C.']\n",
      "spo2 uom: [u'%']\n",
      "creatinine uom: [u'umol/L' u'nan']\n",
      "albumin uom: [u'g/L' u'nan']\n",
      "ph uom: [u'nan']\n",
      "ratio_pao2_flo2 uom: [u'nan']\n",
      "glucose uom: [u'mmol/l' u'mmol/L']\n"
     ]
    }
   ],
   "source": [
    "for feature in feature_ids:\n",
    "    stm_item_df = stmdb.getFeatureData(feature_ids=feature_ids[feature])\n",
    "    uom_all = stm_item_df.valueUOM.unique()\n",
    "    print(\"{} uom: {}\".format(feature, uom_all))"
   ]
  },
  {
   "cell_type": "markdown",
   "metadata": {},
   "source": [
    "## UOM comparison: ISM and STM\n",
    "\n",
    "| label | uom (ism) | uom (stm) | conversion (x stm)   |\n",
    "|-------|-----------|-----------|--------------|\n",
    "|platelet| K/uL     | G/L        |  1       |\n",
    "|wbc     | K/uL     | G/L        |  1       |\n",
    "|hemoglobin | g/dL  | g/dL       |  1       |\n",
    "|urine   | cc/kg/hr | mls/kg/hr  |  1       |\n",
    "|potassium| meq/L   | mmol/l     |  1       |\n",
    "|ndbp     | mmHg    | mmHg       |  1       |\n",
    "|nsbp     | mmHg    | mmHg       |  1       |\n",
    "|hr       | bpm     | bpm        |  1       |\n",
    "|lactic acid | mg/dl | mmol/l    |  9.009   |\n",
    "|temperature | C    | C          |  1       |\n",
    "|spo2     | %       | %          |  1       |\n",
    "|creatinine| mg/dl  | umol/l     |  0.01131 |\n",
    "|albumin  | g/dl    | g/l        |  0.1     |\n",
    "|ph       | -       | -          |  1       |\n",
    "|ratio_pao2_flo2| - | -          |  1       |\n",
    "|glucose  | mg/dl   | mmol/l     |  18.0182 |\n",
    "|map      | cmH2O   | mmHg       |  1.36    |\n",
    "|fio2     | fraction| %          |  0.01    |\n",
    "|pao2     | mmHg    | kPa        |  7.5006  |\n"
   ]
  },
  {
   "cell_type": "code",
   "execution_count": 7,
   "metadata": {
    "collapsed": false
   },
   "outputs": [],
   "source": [
    "stm2ism_uomconv = {'platelet': {'ism':'K/ul', 'stm':'G/l', 'conversion': 1},\n",
    "                   'wbc': {'ism':'K/ul', 'stm':'G/l', 'conversion': 1},\n",
    "                   'hemoglobin': {'ism':'g/dl', 'stm':'g/dl', 'conversion': 1},\n",
    "                   'urin': {'ism':'cc/kg/hr', 'stm':'mls/kg/hr', 'conversion': 1},\n",
    "                   'potassium': {'ism':'meq/l', 'stm':'mmol/l', 'conversion': 1},\n",
    "                   'ndbp': {'ism':'mmHg', 'stm':'mmHg', 'conversion': 1},\n",
    "                   'nsbp': {'ism':'mmHg', 'stm':'mmHg', 'conversion': 1},\n",
    "                   'hr': {'ism':'bpm', 'stm':'bpm', 'conversion': 1},\n",
    "                   'lactic acid': {'ism':'mg/dl', 'stm':'mmol/l', 'conversion': 9.009},\n",
    "                   'temperature': {'ism':'C', 'stm':'C', 'conversion': 1},\n",
    "                   'spo2': {'ism':'%', 'stm':'%', 'conversion': 1},\n",
    "                   'creatinine': {'ism':'mg/dl', 'stm':'umol/l', 'conversion': 0.01131},\n",
    "                   'albumin': {'ism':'g/dl', 'stm':'g/l', 'conversion': 0.1},\n",
    "                   'ph': {'ism':None, 'stm':None, 'conversion': 1},\n",
    "                   'ratio_pao2_flo2': {'ism':None, 'stm':None, 'conversion': 1},\n",
    "                   'glucose': {'ism':'mg/dl', 'stm':'mmol/l', 'conversion': 18.0182},\n",
    "                   'map': {'ism': 'cmH2O', 'stm': 'mmHg', 'conversion': 1.36},\n",
    "                   'fio2': {'ism': 'fraction', 'stm': '%', 'conversion': 0.01},\n",
    "                   'pao2': {'ism': 'mmHg', 'stm': 'kPa', 'conversion': 7.5006}\n",
    "                  }"
   ]
  },
  {
   "cell_type": "code",
   "execution_count": 8,
   "metadata": {
    "collapsed": false
   },
   "outputs": [],
   "source": [
    "f = open(os.path.join(fileDir, \"pickle_files_stm\", 'stm2ism_uomconv.pkl'), 'wb')\n",
    "pickle.dump(stm2ism_uomconv,f)\n",
    "f.close()"
   ]
  }
 ],
 "metadata": {
  "anaconda-cloud": {},
  "kernelspec": {
   "display_name": "Python [Root]",
   "language": "python",
   "name": "Python [Root]"
  },
  "language_info": {
   "codemirror_mode": {
    "name": "ipython",
    "version": 2
   },
   "file_extension": ".py",
   "mimetype": "text/x-python",
   "name": "python",
   "nbconvert_exporter": "python",
   "pygments_lexer": "ipython2",
   "version": "2.7.11"
  }
 },
 "nbformat": 4,
 "nbformat_minor": 0
}
