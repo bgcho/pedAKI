{
 "cells": [
  {
   "cell_type": "code",
   "execution_count": 3,
   "metadata": {
    "collapsed": true
   },
   "outputs": [],
   "source": [
    "%matplotlib inline\n",
    "import pandas as pd\n",
    "import os\n",
    "import numpy as np\n",
    "import matplotlib.pyplot as plt"
   ]
  },
  {
   "cell_type": "markdown",
   "metadata": {},
   "source": [
    "### CHLA's Demographics"
   ]
  },
  {
   "cell_type": "code",
   "execution_count": 2,
   "metadata": {
    "collapsed": false
   },
   "outputs": [],
   "source": [
    "fileDir = os.path.dirname('__file__')\n",
    "fname1 = os.path.join(fileDir, 'io_ism5', \n",
    "                      'ism_onset_io_tlag006_twin006_aki.pkl')\n",
    "fname2 = os.path.join(fileDir, 'io_ism5', \n",
    "                      'ism_onset_io_tlag006_twin006_con.pkl')"
   ]
  },
  {
   "cell_type": "code",
   "execution_count": 3,
   "metadata": {
    "collapsed": false
   },
   "outputs": [],
   "source": [
    "io_aki = pd.read_pickle(fname1)\n",
    "io_con = pd.read_pickle(fname2)"
   ]
  },
  {
   "cell_type": "code",
   "execution_count": 5,
   "metadata": {
    "collapsed": false
   },
   "outputs": [
    {
     "name": "stdout",
     "output_type": "stream",
     "text": [
      "AKI patients: 763\n",
      "AKI stage 1 patients: 519\n",
      "AKI stage 2,3 patients: 244\n",
      "Stable patients: 7341\n",
      "Total patients: 8104\n",
      "AKI prevalence: 9.41510365252\n",
      "Male: 4426(54.6150049358%)\n",
      "Female: 3678(45.3849950642%)\n",
      "Male in AKI group: 414(5.10858835143%)\n",
      "Female in AKI group: 349(4.30651530109%)\n",
      "Male in Control group: 4012(49.5064165844%)\n",
      "Female in Control group: 3329(41.0784797631%)\n"
     ]
    }
   ],
   "source": [
    "nb_aki = len(io_aki.patient_id.unique())\n",
    "nb_aki01 = np.sum(io_aki.AKI_stage==1)\n",
    "nb_aki23 = np.sum(io_aki.AKI_stage>1)\n",
    "nb_con = len(io_con.patient_id.unique())\n",
    "nb_tot = nb_aki + nb_con\n",
    "nb_male_aki = np.sum(io_aki.sex=='M')\n",
    "nb_female_aki = np.sum(io_aki.sex=='F')\n",
    "nb_male_con = np.sum(io_con.sex=='M')\n",
    "nb_female_con = np.sum(io_con.sex=='F')\n",
    "nb_male = nb_male_aki + nb_male_con\n",
    "nb_female = nb_female_aki + nb_female_con\n",
    "print('AKI patients: {}'.format(nb_aki))\n",
    "print('AKI stage 1 patients: {}'.format(nb_aki01))\n",
    "print('AKI stage 2,3 patients: {}'.format(nb_aki23))\n",
    "print('Stable patients: {}'.format(nb_con))\n",
    "print('Total patients: {}'.format(nb_tot))\n",
    "print('AKI prevalence: {}'.format(nb_aki/float(nb_tot)*100))\n",
    "print('Male: {}({:}%)'.format(nb_male, nb_male/float(nb_tot)*100))\n",
    "print('Female: {}({}%)'.format(nb_female, nb_female/float(nb_tot)*100))\n",
    "print('Male in AKI group: {}({:}%)'.format(nb_male_aki, nb_male_aki/float(nb_tot)*100))\n",
    "print('Female in AKI group: {}({}%)'.format(nb_female_aki, nb_female_aki/float(nb_tot)*100))\n",
    "print('Male in Control group: {}({:}%)'.format(nb_male_con, nb_male_con/float(nb_tot)*100))\n",
    "print('Female in Control group: {}({}%)'.format(nb_female_con, nb_female_con/float(nb_tot)*100))\n"
   ]
  },
  {
   "cell_type": "code",
   "execution_count": 6,
   "metadata": {
    "collapsed": false
   },
   "outputs": [
    {
     "name": "stdout",
     "output_type": "stream",
     "text": [
      "Age of AKI group: 6.4877610011\n",
      "Age of Control group: 6.39124228157\n"
     ]
    }
   ],
   "source": [
    "avg_age_aki = io_aki.age.mean()/365.\n",
    "avg_age_con = io_con.age.mean()/365.\n",
    "print('Age of AKI group: {}'.format(avg_age_aki))\n",
    "print('Age of Control group: {}'.format(avg_age_con))"
   ]
  },
  {
   "cell_type": "code",
   "execution_count": 7,
   "metadata": {
    "collapsed": true
   },
   "outputs": [],
   "source": [
    "cr_df = pd.read_pickle(os.path.join(fileDir, 'item_df_ism', \n",
    "                                    'ism_creatinine_df.pkl'))"
   ]
  },
  {
   "cell_type": "code",
   "execution_count": 8,
   "metadata": {
    "collapsed": false
   },
   "outputs": [],
   "source": [
    "ceid_aki = io_aki.encounter_id.unique().tolist()\n",
    "ceid_con = io_con.encounter_id.unique().tolist()\n",
    "\n",
    "cr_df_aki = cr_df.loc[np.in1d(cr_df.encounter_id, ceid_aki),:]\n",
    "cr_df_con = cr_df.loc[np.in1d(cr_df.encounter_id, ceid_con),:]\n",
    "\n",
    "los_aki = cr_df_aki.groupby('encounter_id')['los'].mean()\n",
    "los_con = cr_df_con.groupby('encounter_id')['los'].mean()"
   ]
  },
  {
   "cell_type": "code",
   "execution_count": 9,
   "metadata": {
    "collapsed": false
   },
   "outputs": [
    {
     "name": "stdout",
     "output_type": "stream",
     "text": [
      "LOS (days) of AKI group: 29.9631753313\n",
      "LOS (days) of Control group: 7.47918066718\n"
     ]
    }
   ],
   "source": [
    "print('LOS (days) of AKI group: {}'.format(np.mean(los_aki)/60./24))\n",
    "print('LOS (days) of Control group: {}'.format(np.mean(los_con)/60./24))"
   ]
  },
  {
   "cell_type": "code",
   "execution_count": 19,
   "metadata": {
    "collapsed": false
   },
   "outputs": [],
   "source": [
    "disch_aki = cr_df_aki.groupby('encounter_id')['dischstatus'].unique()\n",
    "disch_aki = disch_aki.to_frame().reset_index()\n",
    "\n",
    "disch_con = cr_df_con.groupby('encounter_id')['dischstatus'].unique()\n",
    "disch_con = disch_con.to_frame().reset_index()"
   ]
  },
  {
   "cell_type": "code",
   "execution_count": 17,
   "metadata": {
    "collapsed": false,
    "scrolled": true
   },
   "outputs": [],
   "source": [
    "def countDeceased(disch_df):\n",
    "    count = 0\n",
    "    for idx, row in disch_df.iterrows():\n",
    "        if 'Deceased' in row.dischstatus:\n",
    "            count += 1\n",
    "    return count"
   ]
  },
  {
   "cell_type": "code",
   "execution_count": 23,
   "metadata": {
    "collapsed": false
   },
   "outputs": [
    {
     "name": "stdout",
     "output_type": "stream",
     "text": [
      "AKI patients deceased: 150/763 (19.6592398427%)\n",
      "Stable patients deceased: 172/7341 (2.34300504019%)\n"
     ]
    }
   ],
   "source": [
    "nb_disch_aki = countDeceased(disch_aki)\n",
    "prv_disch_aki = nb_disch_aki/float(nb_aki)*100\n",
    "nb_disch_con = countDeceased(disch_con)\n",
    "prv_disch_con = nb_disch_con/float(nb_con)*100\n",
    "print('AKI patients deceased: {}/{} ({}%)'.format(nb_disch_aki, nb_aki, prv_disch_aki))\n",
    "print('Stable patients deceased: {}/{} ({}%)'.format(nb_disch_con, nb_con, prv_disch_con))"
   ]
  },
  {
   "cell_type": "code",
   "execution_count": 10,
   "metadata": {
    "collapsed": true
   },
   "outputs": [],
   "source": [
    "def getPresentPrev(io_df, fts):\n",
    "    io_df_interest = io_df.loc[:, fts]\n",
    "    nb_present = io_df_interest.count()\n",
    "    nb_tot = len(io_df.encounter_id.unique())\n",
    "    prev_present = nb_present/float(nb_tot)*100\n",
    "    \n",
    "    return prev_present\n",
    "    "
   ]
  },
  {
   "cell_type": "code",
   "execution_count": 11,
   "metadata": {
    "collapsed": true
   },
   "outputs": [],
   "source": [
    "fts = ['age', 'nsbp_last', 'ndbp_last', 'hr_last', 'spo2_last',\n",
    "       'hemoglobin_last', 'temperature_last', 'wbc_last', 'platelet_last',\n",
    "       'albumin_last', 'urine_last', 'potassium_last', 'glucose_last',\n",
    "       'creatinine_last', 'lactic_acid_last', 'osi_last', 'si_last', 'oi_last',\n",
    "       'bilirubin_last', 'calcium_last', 'bun_last', 'ratio_pao2_flo2_last', \n",
    "       'ph_last']"
   ]
  },
  {
   "cell_type": "code",
   "execution_count": 12,
   "metadata": {
    "collapsed": false
   },
   "outputs": [
    {
     "data": {
      "text/plain": [
       "age                     100.000000\n",
       "nsbp_last                77.011352\n",
       "ndbp_last                76.999013\n",
       "hr_last                  92.978776\n",
       "spo2_last                61.043929\n",
       "hemoglobin_last          24.987660\n",
       "temperature_last         92.929418\n",
       "wbc_last                 23.210760\n",
       "platelet_last            23.840079\n",
       "albumin_last              4.540967\n",
       "urine_last               74.222606\n",
       "potassium_last           40.362784\n",
       "glucose_last             25.012340\n",
       "creatinine_last          23.309477\n",
       "lactic_acid_last          0.851431\n",
       "osi_last                 24.765548\n",
       "si_last                  76.961994\n",
       "oi_last                   9.279368\n",
       "bilirubin_last            4.207799\n",
       "calcium_last             23.013327\n",
       "bun_last                 23.186081\n",
       "ratio_pao2_flo2_last     31.539980\n",
       "ph_last                  31.391905\n",
       "dtype: float64"
      ]
     },
     "execution_count": 12,
     "metadata": {},
     "output_type": "execute_result"
    }
   ],
   "source": [
    "io_all = pd.concat([io_aki, io_con], axis=0)\n",
    "getPresentPrev(io_all, fts)"
   ]
  },
  {
   "cell_type": "code",
   "execution_count": 13,
   "metadata": {
    "collapsed": false
   },
   "outputs": [],
   "source": [
    "# Get number of patients that were on ventilator by investigating MAP df\n",
    "ism_map_df = pd.read_pickle(os.path.join(fileDir, 'item_df_ism', 'ism_map_df.pkl'))\n",
    "ceid_map = ism_map_df.encounter_id.unique().tolist()"
   ]
  },
  {
   "cell_type": "code",
   "execution_count": 14,
   "metadata": {
    "collapsed": false
   },
   "outputs": [
    {
     "name": "stdout",
     "output_type": "stream",
     "text": [
      "Number of AKI patients on ventilator: 651 (8.03307008885%)\n",
      "Number of Stable patients on ventilator: 3852 (47.532082922%)\n"
     ]
    }
   ],
   "source": [
    "nb_vent_aki = np.sum(np.in1d(ceid_aki, ceid_map))\n",
    "nb_vent_con = np.sum(np.in1d(ceid_con, ceid_map))\n",
    "\n",
    "prv_vent_aki = nb_vent_aki/float(nb_tot)*100\n",
    "prv_vent_con = nb_vent_con/float(nb_tot)*100\n",
    "\n",
    "print('Number of AKI patients on ventilator: {} ({}%)'.format(nb_vent_aki, prv_vent_aki))\n",
    "print('Number of Stable patients on ventilator: {} ({}%)'.format(nb_vent_con, prv_vent_con))"
   ]
  },
  {
   "cell_type": "markdown",
   "metadata": {},
   "source": [
    "### St.Mary's Demographics"
   ]
  },
  {
   "cell_type": "code",
   "execution_count": 24,
   "metadata": {
    "collapsed": true
   },
   "outputs": [],
   "source": [
    "import stm_utilities as stm"
   ]
  },
  {
   "cell_type": "code",
   "execution_count": 25,
   "metadata": {
    "collapsed": true
   },
   "outputs": [],
   "source": [
    "stmdb = stm.queryDB()"
   ]
  },
  {
   "cell_type": "code",
   "execution_count": 26,
   "metadata": {
    "collapsed": true
   },
   "outputs": [
    {
     "ename": "KeyboardInterrupt",
     "evalue": "",
     "output_type": "error",
     "traceback": [
      "\u001b[1;31m---------------------------------------------------------------------------\u001b[0m",
      "\u001b[1;31mKeyboardInterrupt\u001b[0m                         Traceback (most recent call last)",
      "\u001b[1;32m<ipython-input-26-7b088c2b3541>\u001b[0m in \u001b[0;36m<module>\u001b[1;34m()\u001b[0m\n\u001b[1;32m----> 1\u001b[1;33m \u001b[0menc_df\u001b[0m \u001b[1;33m=\u001b[0m \u001b[0mstmdb\u001b[0m\u001b[1;33m.\u001b[0m\u001b[0mgetEncounterData\u001b[0m\u001b[1;33m(\u001b[0m\u001b[1;33m)\u001b[0m\u001b[1;33m\u001b[0m\u001b[0m\n\u001b[0m",
      "\u001b[1;32mC:\\Users\\310248864\\pedAKI\\src\\pedAKI_predictor\\stm_utilities.pyc\u001b[0m in \u001b[0;36mgetEncounterData\u001b[1;34m(self, encounter_ids)\u001b[0m\n\u001b[0;32m    466\u001b[0m                    \u001b[1;34m'adm_tstamp'\u001b[0m\u001b[1;33m,\u001b[0m \u001b[1;34m'discharge_tstamp'\u001b[0m\u001b[1;33m,\u001b[0m \u001b[1;34m'ICU_LOS_min'\u001b[0m\u001b[1;33m,\u001b[0m \u001b[1;34m'is_24hr_readmit'\u001b[0m\u001b[1;33m,\u001b[0m\u001b[1;33m\u001b[0m\u001b[0m\n\u001b[0;32m    467\u001b[0m                    'is_discharged', 'is_deceased', 'is_transferred']\n\u001b[1;32m--> 468\u001b[1;33m         \u001b[0mencounters\u001b[0m \u001b[1;33m=\u001b[0m \u001b[0mpd\u001b[0m\u001b[1;33m.\u001b[0m\u001b[0mread_sql\u001b[0m\u001b[1;33m(\u001b[0m\u001b[0mresults\u001b[0m\u001b[1;33m.\u001b[0m\u001b[0mstatement\u001b[0m\u001b[1;33m,\u001b[0m \u001b[0mresults\u001b[0m\u001b[1;33m.\u001b[0m\u001b[0msession\u001b[0m\u001b[1;33m.\u001b[0m\u001b[0mbind\u001b[0m\u001b[1;33m)\u001b[0m\u001b[1;33m\u001b[0m\u001b[0m\n\u001b[0m\u001b[0;32m    469\u001b[0m         \u001b[0mencounters\u001b[0m \u001b[1;33m=\u001b[0m \u001b[0mencounters\u001b[0m\u001b[1;33m.\u001b[0m\u001b[0mloc\u001b[0m\u001b[1;33m[\u001b[0m\u001b[1;33m:\u001b[0m\u001b[1;33m,\u001b[0m \u001b[0mcolumns\u001b[0m\u001b[1;33m]\u001b[0m\u001b[1;33m\u001b[0m\u001b[0m\n\u001b[0;32m    470\u001b[0m \u001b[1;33m\u001b[0m\u001b[0m\n",
      "\u001b[1;32mC:\\Users\\310248864\\AppData\\Local\\Continuum\\Anaconda2\\lib\\site-packages\\pandas\\io\\sql.pyc\u001b[0m in \u001b[0;36mread_sql\u001b[1;34m(sql, con, index_col, coerce_float, params, parse_dates, columns, chunksize)\u001b[0m\n\u001b[0;32m    513\u001b[0m             \u001b[0msql\u001b[0m\u001b[1;33m,\u001b[0m \u001b[0mindex_col\u001b[0m\u001b[1;33m=\u001b[0m\u001b[0mindex_col\u001b[0m\u001b[1;33m,\u001b[0m \u001b[0mparams\u001b[0m\u001b[1;33m=\u001b[0m\u001b[0mparams\u001b[0m\u001b[1;33m,\u001b[0m\u001b[1;33m\u001b[0m\u001b[0m\n\u001b[0;32m    514\u001b[0m             \u001b[0mcoerce_float\u001b[0m\u001b[1;33m=\u001b[0m\u001b[0mcoerce_float\u001b[0m\u001b[1;33m,\u001b[0m \u001b[0mparse_dates\u001b[0m\u001b[1;33m=\u001b[0m\u001b[0mparse_dates\u001b[0m\u001b[1;33m,\u001b[0m\u001b[1;33m\u001b[0m\u001b[0m\n\u001b[1;32m--> 515\u001b[1;33m             chunksize=chunksize)\n\u001b[0m\u001b[0;32m    516\u001b[0m \u001b[1;33m\u001b[0m\u001b[0m\n\u001b[0;32m    517\u001b[0m \u001b[1;33m\u001b[0m\u001b[0m\n",
      "\u001b[1;32mC:\\Users\\310248864\\AppData\\Local\\Continuum\\Anaconda2\\lib\\site-packages\\pandas\\io\\sql.pyc\u001b[0m in \u001b[0;36mread_query\u001b[1;34m(self, sql, index_col, coerce_float, parse_dates, params, chunksize)\u001b[0m\n\u001b[0;32m   1188\u001b[0m         \u001b[0margs\u001b[0m \u001b[1;33m=\u001b[0m \u001b[0m_convert_params\u001b[0m\u001b[1;33m(\u001b[0m\u001b[0msql\u001b[0m\u001b[1;33m,\u001b[0m \u001b[0mparams\u001b[0m\u001b[1;33m)\u001b[0m\u001b[1;33m\u001b[0m\u001b[0m\n\u001b[0;32m   1189\u001b[0m \u001b[1;33m\u001b[0m\u001b[0m\n\u001b[1;32m-> 1190\u001b[1;33m         \u001b[0mresult\u001b[0m \u001b[1;33m=\u001b[0m \u001b[0mself\u001b[0m\u001b[1;33m.\u001b[0m\u001b[0mexecute\u001b[0m\u001b[1;33m(\u001b[0m\u001b[1;33m*\u001b[0m\u001b[0margs\u001b[0m\u001b[1;33m)\u001b[0m\u001b[1;33m\u001b[0m\u001b[0m\n\u001b[0m\u001b[0;32m   1191\u001b[0m         \u001b[0mcolumns\u001b[0m \u001b[1;33m=\u001b[0m \u001b[0mresult\u001b[0m\u001b[1;33m.\u001b[0m\u001b[0mkeys\u001b[0m\u001b[1;33m(\u001b[0m\u001b[1;33m)\u001b[0m\u001b[1;33m\u001b[0m\u001b[0m\n\u001b[0;32m   1192\u001b[0m \u001b[1;33m\u001b[0m\u001b[0m\n",
      "\u001b[1;32mC:\\Users\\310248864\\AppData\\Local\\Continuum\\Anaconda2\\lib\\site-packages\\pandas\\io\\sql.pyc\u001b[0m in \u001b[0;36mexecute\u001b[1;34m(self, *args, **kwargs)\u001b[0m\n\u001b[0;32m   1079\u001b[0m     \u001b[1;32mdef\u001b[0m \u001b[0mexecute\u001b[0m\u001b[1;33m(\u001b[0m\u001b[0mself\u001b[0m\u001b[1;33m,\u001b[0m \u001b[1;33m*\u001b[0m\u001b[0margs\u001b[0m\u001b[1;33m,\u001b[0m \u001b[1;33m**\u001b[0m\u001b[0mkwargs\u001b[0m\u001b[1;33m)\u001b[0m\u001b[1;33m:\u001b[0m\u001b[1;33m\u001b[0m\u001b[0m\n\u001b[0;32m   1080\u001b[0m         \u001b[1;34m\"\"\"Simple passthrough to SQLAlchemy connectable\"\"\"\u001b[0m\u001b[1;33m\u001b[0m\u001b[0m\n\u001b[1;32m-> 1081\u001b[1;33m         \u001b[1;32mreturn\u001b[0m \u001b[0mself\u001b[0m\u001b[1;33m.\u001b[0m\u001b[0mconnectable\u001b[0m\u001b[1;33m.\u001b[0m\u001b[0mexecute\u001b[0m\u001b[1;33m(\u001b[0m\u001b[1;33m*\u001b[0m\u001b[0margs\u001b[0m\u001b[1;33m,\u001b[0m \u001b[1;33m**\u001b[0m\u001b[0mkwargs\u001b[0m\u001b[1;33m)\u001b[0m\u001b[1;33m\u001b[0m\u001b[0m\n\u001b[0m\u001b[0;32m   1082\u001b[0m \u001b[1;33m\u001b[0m\u001b[0m\n\u001b[0;32m   1083\u001b[0m     def read_table(self, table_name, index_col=None, coerce_float=True,\n",
      "\u001b[1;32mC:\\Users\\310248864\\AppData\\Local\\Continuum\\Anaconda2\\lib\\site-packages\\sqlalchemy\\engine\\base.pyc\u001b[0m in \u001b[0;36mexecute\u001b[1;34m(self, statement, *multiparams, **params)\u001b[0m\n\u001b[0;32m   1988\u001b[0m         \"\"\"\n\u001b[0;32m   1989\u001b[0m \u001b[1;33m\u001b[0m\u001b[0m\n\u001b[1;32m-> 1990\u001b[1;33m         \u001b[0mconnection\u001b[0m \u001b[1;33m=\u001b[0m \u001b[0mself\u001b[0m\u001b[1;33m.\u001b[0m\u001b[0mcontextual_connect\u001b[0m\u001b[1;33m(\u001b[0m\u001b[0mclose_with_result\u001b[0m\u001b[1;33m=\u001b[0m\u001b[0mTrue\u001b[0m\u001b[1;33m)\u001b[0m\u001b[1;33m\u001b[0m\u001b[0m\n\u001b[0m\u001b[0;32m   1991\u001b[0m         \u001b[1;32mreturn\u001b[0m \u001b[0mconnection\u001b[0m\u001b[1;33m.\u001b[0m\u001b[0mexecute\u001b[0m\u001b[1;33m(\u001b[0m\u001b[0mstatement\u001b[0m\u001b[1;33m,\u001b[0m \u001b[1;33m*\u001b[0m\u001b[0mmultiparams\u001b[0m\u001b[1;33m,\u001b[0m \u001b[1;33m**\u001b[0m\u001b[0mparams\u001b[0m\u001b[1;33m)\u001b[0m\u001b[1;33m\u001b[0m\u001b[0m\n\u001b[0;32m   1992\u001b[0m \u001b[1;33m\u001b[0m\u001b[0m\n",
      "\u001b[1;32mC:\\Users\\310248864\\AppData\\Local\\Continuum\\Anaconda2\\lib\\site-packages\\sqlalchemy\\engine\\base.pyc\u001b[0m in \u001b[0;36mcontextual_connect\u001b[1;34m(self, close_with_result, **kwargs)\u001b[0m\n\u001b[0;32m   2037\u001b[0m         return self._connection_cls(\n\u001b[0;32m   2038\u001b[0m             \u001b[0mself\u001b[0m\u001b[1;33m,\u001b[0m\u001b[1;33m\u001b[0m\u001b[0m\n\u001b[1;32m-> 2039\u001b[1;33m             \u001b[0mself\u001b[0m\u001b[1;33m.\u001b[0m\u001b[0m_wrap_pool_connect\u001b[0m\u001b[1;33m(\u001b[0m\u001b[0mself\u001b[0m\u001b[1;33m.\u001b[0m\u001b[0mpool\u001b[0m\u001b[1;33m.\u001b[0m\u001b[0mconnect\u001b[0m\u001b[1;33m,\u001b[0m \u001b[0mNone\u001b[0m\u001b[1;33m)\u001b[0m\u001b[1;33m,\u001b[0m\u001b[1;33m\u001b[0m\u001b[0m\n\u001b[0m\u001b[0;32m   2040\u001b[0m             \u001b[0mclose_with_result\u001b[0m\u001b[1;33m=\u001b[0m\u001b[0mclose_with_result\u001b[0m\u001b[1;33m,\u001b[0m\u001b[1;33m\u001b[0m\u001b[0m\n\u001b[0;32m   2041\u001b[0m             **kwargs)\n",
      "\u001b[1;32mC:\\Users\\310248864\\AppData\\Local\\Continuum\\Anaconda2\\lib\\site-packages\\sqlalchemy\\engine\\base.pyc\u001b[0m in \u001b[0;36m_wrap_pool_connect\u001b[1;34m(self, fn, connection)\u001b[0m\n\u001b[0;32m   2072\u001b[0m         \u001b[0mdialect\u001b[0m \u001b[1;33m=\u001b[0m \u001b[0mself\u001b[0m\u001b[1;33m.\u001b[0m\u001b[0mdialect\u001b[0m\u001b[1;33m\u001b[0m\u001b[0m\n\u001b[0;32m   2073\u001b[0m         \u001b[1;32mtry\u001b[0m\u001b[1;33m:\u001b[0m\u001b[1;33m\u001b[0m\u001b[0m\n\u001b[1;32m-> 2074\u001b[1;33m             \u001b[1;32mreturn\u001b[0m \u001b[0mfn\u001b[0m\u001b[1;33m(\u001b[0m\u001b[1;33m)\u001b[0m\u001b[1;33m\u001b[0m\u001b[0m\n\u001b[0m\u001b[0;32m   2075\u001b[0m         \u001b[1;32mexcept\u001b[0m \u001b[0mdialect\u001b[0m\u001b[1;33m.\u001b[0m\u001b[0mdbapi\u001b[0m\u001b[1;33m.\u001b[0m\u001b[0mError\u001b[0m \u001b[1;32mas\u001b[0m \u001b[0me\u001b[0m\u001b[1;33m:\u001b[0m\u001b[1;33m\u001b[0m\u001b[0m\n\u001b[0;32m   2076\u001b[0m             \u001b[1;32mif\u001b[0m \u001b[0mconnection\u001b[0m \u001b[1;32mis\u001b[0m \u001b[0mNone\u001b[0m\u001b[1;33m:\u001b[0m\u001b[1;33m\u001b[0m\u001b[0m\n",
      "\u001b[1;32mC:\\Users\\310248864\\AppData\\Local\\Continuum\\Anaconda2\\lib\\site-packages\\sqlalchemy\\pool.pyc\u001b[0m in \u001b[0;36mconnect\u001b[1;34m(self)\u001b[0m\n\u001b[0;32m    374\u001b[0m         \"\"\"\n\u001b[0;32m    375\u001b[0m         \u001b[1;32mif\u001b[0m \u001b[1;32mnot\u001b[0m \u001b[0mself\u001b[0m\u001b[1;33m.\u001b[0m\u001b[0m_use_threadlocal\u001b[0m\u001b[1;33m:\u001b[0m\u001b[1;33m\u001b[0m\u001b[0m\n\u001b[1;32m--> 376\u001b[1;33m             \u001b[1;32mreturn\u001b[0m \u001b[0m_ConnectionFairy\u001b[0m\u001b[1;33m.\u001b[0m\u001b[0m_checkout\u001b[0m\u001b[1;33m(\u001b[0m\u001b[0mself\u001b[0m\u001b[1;33m)\u001b[0m\u001b[1;33m\u001b[0m\u001b[0m\n\u001b[0m\u001b[0;32m    377\u001b[0m \u001b[1;33m\u001b[0m\u001b[0m\n\u001b[0;32m    378\u001b[0m         \u001b[1;32mtry\u001b[0m\u001b[1;33m:\u001b[0m\u001b[1;33m\u001b[0m\u001b[0m\n",
      "\u001b[1;32mC:\\Users\\310248864\\AppData\\Local\\Continuum\\Anaconda2\\lib\\site-packages\\sqlalchemy\\pool.pyc\u001b[0m in \u001b[0;36m_checkout\u001b[1;34m(cls, pool, threadconns, fairy)\u001b[0m\n\u001b[0;32m    711\u001b[0m     \u001b[1;32mdef\u001b[0m \u001b[0m_checkout\u001b[0m\u001b[1;33m(\u001b[0m\u001b[0mcls\u001b[0m\u001b[1;33m,\u001b[0m \u001b[0mpool\u001b[0m\u001b[1;33m,\u001b[0m \u001b[0mthreadconns\u001b[0m\u001b[1;33m=\u001b[0m\u001b[0mNone\u001b[0m\u001b[1;33m,\u001b[0m \u001b[0mfairy\u001b[0m\u001b[1;33m=\u001b[0m\u001b[0mNone\u001b[0m\u001b[1;33m)\u001b[0m\u001b[1;33m:\u001b[0m\u001b[1;33m\u001b[0m\u001b[0m\n\u001b[0;32m    712\u001b[0m         \u001b[1;32mif\u001b[0m \u001b[1;32mnot\u001b[0m \u001b[0mfairy\u001b[0m\u001b[1;33m:\u001b[0m\u001b[1;33m\u001b[0m\u001b[0m\n\u001b[1;32m--> 713\u001b[1;33m             \u001b[0mfairy\u001b[0m \u001b[1;33m=\u001b[0m \u001b[0m_ConnectionRecord\u001b[0m\u001b[1;33m.\u001b[0m\u001b[0mcheckout\u001b[0m\u001b[1;33m(\u001b[0m\u001b[0mpool\u001b[0m\u001b[1;33m)\u001b[0m\u001b[1;33m\u001b[0m\u001b[0m\n\u001b[0m\u001b[0;32m    714\u001b[0m \u001b[1;33m\u001b[0m\u001b[0m\n\u001b[0;32m    715\u001b[0m             \u001b[0mfairy\u001b[0m\u001b[1;33m.\u001b[0m\u001b[0m_pool\u001b[0m \u001b[1;33m=\u001b[0m \u001b[0mpool\u001b[0m\u001b[1;33m\u001b[0m\u001b[0m\n",
      "\u001b[1;32mC:\\Users\\310248864\\AppData\\Local\\Continuum\\Anaconda2\\lib\\site-packages\\sqlalchemy\\pool.pyc\u001b[0m in \u001b[0;36mcheckout\u001b[1;34m(cls, pool)\u001b[0m\n\u001b[0;32m    478\u001b[0m     \u001b[1;33m@\u001b[0m\u001b[0mclassmethod\u001b[0m\u001b[1;33m\u001b[0m\u001b[0m\n\u001b[0;32m    479\u001b[0m     \u001b[1;32mdef\u001b[0m \u001b[0mcheckout\u001b[0m\u001b[1;33m(\u001b[0m\u001b[0mcls\u001b[0m\u001b[1;33m,\u001b[0m \u001b[0mpool\u001b[0m\u001b[1;33m)\u001b[0m\u001b[1;33m:\u001b[0m\u001b[1;33m\u001b[0m\u001b[0m\n\u001b[1;32m--> 480\u001b[1;33m         \u001b[0mrec\u001b[0m \u001b[1;33m=\u001b[0m \u001b[0mpool\u001b[0m\u001b[1;33m.\u001b[0m\u001b[0m_do_get\u001b[0m\u001b[1;33m(\u001b[0m\u001b[1;33m)\u001b[0m\u001b[1;33m\u001b[0m\u001b[0m\n\u001b[0m\u001b[0;32m    481\u001b[0m         \u001b[1;32mtry\u001b[0m\u001b[1;33m:\u001b[0m\u001b[1;33m\u001b[0m\u001b[0m\n\u001b[0;32m    482\u001b[0m             \u001b[0mdbapi_connection\u001b[0m \u001b[1;33m=\u001b[0m \u001b[0mrec\u001b[0m\u001b[1;33m.\u001b[0m\u001b[0mget_connection\u001b[0m\u001b[1;33m(\u001b[0m\u001b[1;33m)\u001b[0m\u001b[1;33m\u001b[0m\u001b[0m\n",
      "\u001b[1;32mC:\\Users\\310248864\\AppData\\Local\\Continuum\\Anaconda2\\lib\\site-packages\\sqlalchemy\\pool.pyc\u001b[0m in \u001b[0;36m_do_get\u001b[1;34m(self)\u001b[0m\n\u001b[0;32m   1058\u001b[0m                 \u001b[1;32mexcept\u001b[0m\u001b[1;33m:\u001b[0m\u001b[1;33m\u001b[0m\u001b[0m\n\u001b[0;32m   1059\u001b[0m                     \u001b[1;32mwith\u001b[0m \u001b[0mutil\u001b[0m\u001b[1;33m.\u001b[0m\u001b[0msafe_reraise\u001b[0m\u001b[1;33m(\u001b[0m\u001b[1;33m)\u001b[0m\u001b[1;33m:\u001b[0m\u001b[1;33m\u001b[0m\u001b[0m\n\u001b[1;32m-> 1060\u001b[1;33m                         \u001b[0mself\u001b[0m\u001b[1;33m.\u001b[0m\u001b[0m_dec_overflow\u001b[0m\u001b[1;33m(\u001b[0m\u001b[1;33m)\u001b[0m\u001b[1;33m\u001b[0m\u001b[0m\n\u001b[0m\u001b[0;32m   1061\u001b[0m             \u001b[1;32melse\u001b[0m\u001b[1;33m:\u001b[0m\u001b[1;33m\u001b[0m\u001b[0m\n\u001b[0;32m   1062\u001b[0m                 \u001b[1;32mreturn\u001b[0m \u001b[0mself\u001b[0m\u001b[1;33m.\u001b[0m\u001b[0m_do_get\u001b[0m\u001b[1;33m(\u001b[0m\u001b[1;33m)\u001b[0m\u001b[1;33m\u001b[0m\u001b[0m\n",
      "\u001b[1;32mC:\\Users\\310248864\\AppData\\Local\\Continuum\\Anaconda2\\lib\\site-packages\\sqlalchemy\\util\\langhelpers.pyc\u001b[0m in \u001b[0;36m__exit__\u001b[1;34m(self, type_, value, traceback)\u001b[0m\n\u001b[0;32m     58\u001b[0m             \u001b[0mexc_type\u001b[0m\u001b[1;33m,\u001b[0m \u001b[0mexc_value\u001b[0m\u001b[1;33m,\u001b[0m \u001b[0mexc_tb\u001b[0m \u001b[1;33m=\u001b[0m \u001b[0mself\u001b[0m\u001b[1;33m.\u001b[0m\u001b[0m_exc_info\u001b[0m\u001b[1;33m\u001b[0m\u001b[0m\n\u001b[0;32m     59\u001b[0m             \u001b[0mself\u001b[0m\u001b[1;33m.\u001b[0m\u001b[0m_exc_info\u001b[0m \u001b[1;33m=\u001b[0m \u001b[0mNone\u001b[0m   \u001b[1;31m# remove potential circular references\u001b[0m\u001b[1;33m\u001b[0m\u001b[0m\n\u001b[1;32m---> 60\u001b[1;33m             \u001b[0mcompat\u001b[0m\u001b[1;33m.\u001b[0m\u001b[0mreraise\u001b[0m\u001b[1;33m(\u001b[0m\u001b[0mexc_type\u001b[0m\u001b[1;33m,\u001b[0m \u001b[0mexc_value\u001b[0m\u001b[1;33m,\u001b[0m \u001b[0mexc_tb\u001b[0m\u001b[1;33m)\u001b[0m\u001b[1;33m\u001b[0m\u001b[0m\n\u001b[0m\u001b[0;32m     61\u001b[0m         \u001b[1;32melse\u001b[0m\u001b[1;33m:\u001b[0m\u001b[1;33m\u001b[0m\u001b[0m\n\u001b[0;32m     62\u001b[0m             \u001b[1;32mif\u001b[0m \u001b[1;32mnot\u001b[0m \u001b[0mcompat\u001b[0m\u001b[1;33m.\u001b[0m\u001b[0mpy3k\u001b[0m \u001b[1;32mand\u001b[0m \u001b[0mself\u001b[0m\u001b[1;33m.\u001b[0m\u001b[0m_exc_info\u001b[0m \u001b[1;32mand\u001b[0m \u001b[0mself\u001b[0m\u001b[1;33m.\u001b[0m\u001b[0m_exc_info\u001b[0m\u001b[1;33m[\u001b[0m\u001b[1;36m1\u001b[0m\u001b[1;33m]\u001b[0m\u001b[1;33m:\u001b[0m\u001b[1;33m\u001b[0m\u001b[0m\n",
      "\u001b[1;32mC:\\Users\\310248864\\AppData\\Local\\Continuum\\Anaconda2\\lib\\site-packages\\sqlalchemy\\pool.pyc\u001b[0m in \u001b[0;36m_do_get\u001b[1;34m(self)\u001b[0m\n\u001b[0;32m   1055\u001b[0m             \u001b[1;32mif\u001b[0m \u001b[0mself\u001b[0m\u001b[1;33m.\u001b[0m\u001b[0m_inc_overflow\u001b[0m\u001b[1;33m(\u001b[0m\u001b[1;33m)\u001b[0m\u001b[1;33m:\u001b[0m\u001b[1;33m\u001b[0m\u001b[0m\n\u001b[0;32m   1056\u001b[0m                 \u001b[1;32mtry\u001b[0m\u001b[1;33m:\u001b[0m\u001b[1;33m\u001b[0m\u001b[0m\n\u001b[1;32m-> 1057\u001b[1;33m                     \u001b[1;32mreturn\u001b[0m \u001b[0mself\u001b[0m\u001b[1;33m.\u001b[0m\u001b[0m_create_connection\u001b[0m\u001b[1;33m(\u001b[0m\u001b[1;33m)\u001b[0m\u001b[1;33m\u001b[0m\u001b[0m\n\u001b[0m\u001b[0;32m   1058\u001b[0m                 \u001b[1;32mexcept\u001b[0m\u001b[1;33m:\u001b[0m\u001b[1;33m\u001b[0m\u001b[0m\n\u001b[0;32m   1059\u001b[0m                     \u001b[1;32mwith\u001b[0m \u001b[0mutil\u001b[0m\u001b[1;33m.\u001b[0m\u001b[0msafe_reraise\u001b[0m\u001b[1;33m(\u001b[0m\u001b[1;33m)\u001b[0m\u001b[1;33m:\u001b[0m\u001b[1;33m\u001b[0m\u001b[0m\n",
      "\u001b[1;32mC:\\Users\\310248864\\AppData\\Local\\Continuum\\Anaconda2\\lib\\site-packages\\sqlalchemy\\pool.pyc\u001b[0m in \u001b[0;36m_create_connection\u001b[1;34m(self)\u001b[0m\n\u001b[0;32m    321\u001b[0m         \u001b[1;34m\"\"\"Called by subclasses to create a new ConnectionRecord.\"\"\"\u001b[0m\u001b[1;33m\u001b[0m\u001b[0m\n\u001b[0;32m    322\u001b[0m \u001b[1;33m\u001b[0m\u001b[0m\n\u001b[1;32m--> 323\u001b[1;33m         \u001b[1;32mreturn\u001b[0m \u001b[0m_ConnectionRecord\u001b[0m\u001b[1;33m(\u001b[0m\u001b[0mself\u001b[0m\u001b[1;33m)\u001b[0m\u001b[1;33m\u001b[0m\u001b[0m\n\u001b[0m\u001b[0;32m    324\u001b[0m \u001b[1;33m\u001b[0m\u001b[0m\n\u001b[0;32m    325\u001b[0m     \u001b[1;32mdef\u001b[0m \u001b[0m_invalidate\u001b[0m\u001b[1;33m(\u001b[0m\u001b[0mself\u001b[0m\u001b[1;33m,\u001b[0m \u001b[0mconnection\u001b[0m\u001b[1;33m,\u001b[0m \u001b[0mexception\u001b[0m\u001b[1;33m=\u001b[0m\u001b[0mNone\u001b[0m\u001b[1;33m)\u001b[0m\u001b[1;33m:\u001b[0m\u001b[1;33m\u001b[0m\u001b[0m\n",
      "\u001b[1;32mC:\\Users\\310248864\\AppData\\Local\\Continuum\\Anaconda2\\lib\\site-packages\\sqlalchemy\\pool.pyc\u001b[0m in \u001b[0;36m__init__\u001b[1;34m(self, pool)\u001b[0m\n\u001b[0;32m    447\u001b[0m     \u001b[1;32mdef\u001b[0m \u001b[0m__init__\u001b[0m\u001b[1;33m(\u001b[0m\u001b[0mself\u001b[0m\u001b[1;33m,\u001b[0m \u001b[0mpool\u001b[0m\u001b[1;33m)\u001b[0m\u001b[1;33m:\u001b[0m\u001b[1;33m\u001b[0m\u001b[0m\n\u001b[0;32m    448\u001b[0m         \u001b[0mself\u001b[0m\u001b[1;33m.\u001b[0m\u001b[0m__pool\u001b[0m \u001b[1;33m=\u001b[0m \u001b[0mpool\u001b[0m\u001b[1;33m\u001b[0m\u001b[0m\n\u001b[1;32m--> 449\u001b[1;33m         \u001b[0mself\u001b[0m\u001b[1;33m.\u001b[0m\u001b[0mconnection\u001b[0m \u001b[1;33m=\u001b[0m \u001b[0mself\u001b[0m\u001b[1;33m.\u001b[0m\u001b[0m__connect\u001b[0m\u001b[1;33m(\u001b[0m\u001b[1;33m)\u001b[0m\u001b[1;33m\u001b[0m\u001b[0m\n\u001b[0m\u001b[0;32m    450\u001b[0m         \u001b[0mself\u001b[0m\u001b[1;33m.\u001b[0m\u001b[0mfinalize_callback\u001b[0m \u001b[1;33m=\u001b[0m \u001b[0mdeque\u001b[0m\u001b[1;33m(\u001b[0m\u001b[1;33m)\u001b[0m\u001b[1;33m\u001b[0m\u001b[0m\n\u001b[0;32m    451\u001b[0m \u001b[1;33m\u001b[0m\u001b[0m\n",
      "\u001b[1;32mC:\\Users\\310248864\\AppData\\Local\\Continuum\\Anaconda2\\lib\\site-packages\\sqlalchemy\\pool.pyc\u001b[0m in \u001b[0;36m__connect\u001b[1;34m(self)\u001b[0m\n\u001b[0;32m    605\u001b[0m         \u001b[1;32mtry\u001b[0m\u001b[1;33m:\u001b[0m\u001b[1;33m\u001b[0m\u001b[0m\n\u001b[0;32m    606\u001b[0m             \u001b[0mself\u001b[0m\u001b[1;33m.\u001b[0m\u001b[0mstarttime\u001b[0m \u001b[1;33m=\u001b[0m \u001b[0mtime\u001b[0m\u001b[1;33m.\u001b[0m\u001b[0mtime\u001b[0m\u001b[1;33m(\u001b[0m\u001b[1;33m)\u001b[0m\u001b[1;33m\u001b[0m\u001b[0m\n\u001b[1;32m--> 607\u001b[1;33m             \u001b[0mconnection\u001b[0m \u001b[1;33m=\u001b[0m \u001b[0mself\u001b[0m\u001b[1;33m.\u001b[0m\u001b[0m__pool\u001b[0m\u001b[1;33m.\u001b[0m\u001b[0m_invoke_creator\u001b[0m\u001b[1;33m(\u001b[0m\u001b[0mself\u001b[0m\u001b[1;33m)\u001b[0m\u001b[1;33m\u001b[0m\u001b[0m\n\u001b[0m\u001b[0;32m    608\u001b[0m             \u001b[0mself\u001b[0m\u001b[1;33m.\u001b[0m\u001b[0m__pool\u001b[0m\u001b[1;33m.\u001b[0m\u001b[0mlogger\u001b[0m\u001b[1;33m.\u001b[0m\u001b[0mdebug\u001b[0m\u001b[1;33m(\u001b[0m\u001b[1;34m\"Created new connection %r\"\u001b[0m\u001b[1;33m,\u001b[0m \u001b[0mconnection\u001b[0m\u001b[1;33m)\u001b[0m\u001b[1;33m\u001b[0m\u001b[0m\n\u001b[0;32m    609\u001b[0m             \u001b[1;32mreturn\u001b[0m \u001b[0mconnection\u001b[0m\u001b[1;33m\u001b[0m\u001b[0m\n",
      "\u001b[1;31mKeyboardInterrupt\u001b[0m: "
     ]
    }
   ],
   "source": [
    "enc_df = stmdb.getEncounterData()"
   ]
  },
  {
   "cell_type": "code",
   "execution_count": null,
   "metadata": {
    "collapsed": false
   },
   "outputs": [],
   "source": [
    "print('Total encounters in St.Mary DB: {}'.format(len(enc_df.encounter_id.unique())))\n",
    "print('Total patients in St.Mary DB: {}'.format(len(enc_df.patient_id.unique())))"
   ]
  },
  {
   "cell_type": "code",
   "execution_count": 27,
   "metadata": {
    "collapsed": false
   },
   "outputs": [],
   "source": [
    "cr_df = pd.read_pickle(os.path.join(fileDir, 'item_df_stm', 'stm_creatinine_df.pkl'))"
   ]
  },
  {
   "cell_type": "code",
   "execution_count": 28,
   "metadata": {
    "collapsed": false
   },
   "outputs": [
    {
     "name": "stdout",
     "output_type": "stream",
     "text": [
      "Total encounters with Creatinine measurements: 1388\n",
      "Total patients with Creatinine measurements: 1388\n",
      "Total Creatinine measurements: 12913\n"
     ]
    }
   ],
   "source": [
    "print('Total encounters with Creatinine measurements: {}'.format(len(cr_df.encounter_id.unique())))\n",
    "print('Total patients with Creatinine measurements: {}'.format(len(cr_df.patient_id.unique())))\n",
    "print('Total Creatinine measurements: {}'.format(len(cr_df.index)))"
   ]
  },
  {
   "cell_type": "code",
   "execution_count": 29,
   "metadata": {
    "collapsed": false
   },
   "outputs": [],
   "source": [
    "stm_aki = pd.read_pickle(os.path.join(fileDir, 'io_stm5' , 'stm_onset_io_tlag006_twin006_aki.pkl'))\n",
    "stm_con = pd.read_pickle(os.path.join(fileDir, 'io_stm5' , 'stm_onset_io_tlag006_twin006_con.pkl'))"
   ]
  },
  {
   "cell_type": "code",
   "execution_count": 30,
   "metadata": {
    "collapsed": false
   },
   "outputs": [
    {
     "name": "stdout",
     "output_type": "stream",
     "text": [
      "Total patients: 1388\n",
      "Total AKI patients: 163\n",
      "AKI stage 1 patients: 123\n",
      "AKI stage 2-3 patients: 40\n",
      "Total stable patients: 1225\n",
      "Prevalence of AKI patients: 11.7435158501%\n"
     ]
    }
   ],
   "source": [
    "nb_stm_aki = len(stm_aki.encounter_id.unique())\n",
    "nb_stm_aki01 = np.sum(stm_aki.AKI_stage==1)\n",
    "nb_stm_aki23 = np.sum(stm_aki.AKI_stage>1)\n",
    "nb_stm_con = len(stm_con.encounter_id.unique())\n",
    "nb_stm_tot = nb_stm_aki + nb_stm_con\n",
    "prv_stm_aki = nb_stm_aki/float(nb_stm_tot)*100\n",
    "print('Total patients: {}'.format(nb_stm_tot))\n",
    "print('Total AKI patients: {}'.format(nb_stm_aki))\n",
    "print('AKI stage 1 patients: {}'.format(nb_stm_aki01))\n",
    "print('AKI stage 2-3 patients: {}'.format(nb_stm_aki23))\n",
    "print('Total stable patients: {}'.format(nb_stm_con))\n",
    "print('Prevalence of AKI patients: {}%'.format(prv_stm_aki))"
   ]
  },
  {
   "cell_type": "code",
   "execution_count": 42,
   "metadata": {
    "collapsed": false
   },
   "outputs": [
    {
     "name": "stdout",
     "output_type": "stream",
     "text": [
      "Number of male in AKI group: 85(6.12391930836%)\n",
      "Number of female in AKI group: 78(5.61959654179%)\n",
      "Number of male in stable group: 683(49.2074927954%)\n",
      "Number of female in stable group: 542(39.0489913545%)\n"
     ]
    }
   ],
   "source": [
    "nb_stm_aki_male = np.sum(stm_aki.sex=='M')\n",
    "prv_stm_aki_male = nb_stm_aki_male/float(nb_stm_tot)*100\n",
    "nb_stm_aki_female = np.sum(stm_aki.sex=='F')\n",
    "prv_stm_aki_female = nb_stm_aki_female/float(nb_stm_tot)*100\n",
    "nb_stm_con_male = np.sum(stm_con.sex=='M')\n",
    "prv_stm_con_male = nb_stm_con_male/float(nb_stm_tot)*100\n",
    "nb_stm_con_female = np.sum(stm_con.sex=='F')\n",
    "prv_stm_con_female = nb_stm_con_female/float(nb_stm_tot)*100\n",
    "\n",
    "print('Number of male in AKI group: {}({}%)'.format(nb_stm_aki_male, prv_stm_aki_male))\n",
    "print('Number of female in AKI group: {}({}%)'.format(nb_stm_aki_female, prv_stm_aki_female))\n",
    "print('Number of male in stable group: {}({}%)'.format(nb_stm_con_male, prv_stm_con_male))\n",
    "print('Number of female in stable group: {}({}%)'.format(nb_stm_con_female, prv_stm_con_female))\n"
   ]
  },
  {
   "cell_type": "code",
   "execution_count": 41,
   "metadata": {
    "collapsed": false
   },
   "outputs": [],
   "source": [
    "ceid_stm_aki = stm_aki.encounter_id.unique().tolist()\n",
    "ceid_stm_con = stm_con.encounter_id.unique().tolist()"
   ]
  },
  {
   "cell_type": "code",
   "execution_count": 39,
   "metadata": {
    "collapsed": false
   },
   "outputs": [
    {
     "name": "stdout",
     "output_type": "stream",
     "text": [
      "average LOS in AKI group: 20.3828476483 days\n",
      "average LOS in stable group: 6.06435827664 days\n"
     ]
    }
   ],
   "source": [
    "cr_df_stm_aki = cr_df.loc[np.in1d(cr_df.encounter_id, ceid_stm_aki),:]\n",
    "cr_df_stm_con = cr_df.loc[np.in1d(cr_df.encounter_id, ceid_stm_con),:]\n",
    "\n",
    "los_stm_aki = cr_df_stm_aki.groupby('encounter_id')['ICU_LOS_min'].mean()\n",
    "los_stm_con = cr_df_stm_con.groupby('encounter_id')['ICU_LOS_min'].mean()\n",
    "\n",
    "avg_los_stm_aki = los_stm_aki.mean()\n",
    "avg_los_stm_con = los_stm_con.mean()\n",
    "\n",
    "print('average LOS in AKI group: {} days'.format(avg_los_stm_aki/60./24.))\n",
    "print('average LOS in stable group: {} days'.format(avg_los_stm_con/60./24.))"
   ]
  },
  {
   "cell_type": "code",
   "execution_count": 34,
   "metadata": {
    "collapsed": false
   },
   "outputs": [
    {
     "name": "stdout",
     "output_type": "stream",
     "text": [
      "Average age in AKI group: 4.70985920224 years\n",
      "Average age in stable group: 4.00117783458 years\n"
     ]
    }
   ],
   "source": [
    "age_aki = stm_aki.age.mean()/365.\n",
    "age_con = stm_con.age.mean()/365.\n",
    "\n",
    "print('Average age in AKI group: {} years'.format(age_aki))\n",
    "print('Average age in stable group: {} years'.format(age_con))"
   ]
  },
  {
   "cell_type": "code",
   "execution_count": 35,
   "metadata": {
    "collapsed": false
   },
   "outputs": [
    {
     "name": "stdout",
     "output_type": "stream",
     "text": [
      "Number of AKI patients on ventilator: 158 (11.3832853026%)\n",
      "Number of Stable patients on ventilator: 1037 (74.711815562%)\n"
     ]
    }
   ],
   "source": [
    "# Get number of patients that were on ventilator by investigating MAP df\n",
    "stm_map_df = pd.read_pickle(os.path.join(fileDir, 'item_df_stm', 'stm_map_df.pkl'))\n",
    "ceid_stm_map = stm_map_df.encounter_id.unique().tolist()\n",
    "\n",
    "\n",
    "nb_vent_stm_aki = np.sum(np.in1d(ceid_stm_aki, ceid_stm_map))\n",
    "nb_vent_stm_con = np.sum(np.in1d(ceid_stm_con, ceid_stm_map))\n",
    "\n",
    "prv_vent_stm_aki = nb_vent_stm_aki/float(nb_stm_tot)*100\n",
    "prv_vent_stm_con = nb_vent_stm_con/float(nb_stm_tot)*100\n",
    "\n",
    "print('Number of AKI patients on ventilator: {} ({}%)'.format(nb_vent_stm_aki, prv_vent_stm_aki))\n",
    "print('Number of Stable patients on ventilator: {} ({}%)'.format(nb_vent_stm_con, prv_vent_stm_con))"
   ]
  },
  {
   "cell_type": "code",
   "execution_count": 46,
   "metadata": {
    "collapsed": false
   },
   "outputs": [],
   "source": [
    "def countDeceasedSTM(disch_df):\n",
    "    count = 0\n",
    "    for idx, row in disch_df.iterrows():\n",
    "        if row.is_deceased == True:\n",
    "            count += 1\n",
    "    return count"
   ]
  },
  {
   "cell_type": "code",
   "execution_count": 47,
   "metadata": {
    "collapsed": false
   },
   "outputs": [],
   "source": [
    "disch_stm_aki = cr_df_stm_aki.groupby('encounter_id')['is_deceased'].unique()\n",
    "disch_stm_aki = disch_stm_aki.to_frame().reset_index()\n",
    "\n",
    "disch_stm_con = cr_df_stm_con.groupby('encounter_id')['is_deceased'].unique()\n",
    "disch_stm_con = disch_stm_con.to_frame().reset_index()"
   ]
  },
  {
   "cell_type": "code",
   "execution_count": 48,
   "metadata": {
    "collapsed": false
   },
   "outputs": [
    {
     "name": "stdout",
     "output_type": "stream",
     "text": [
      "AKI patients deceased: 32/163 (19.6319018405%)\n",
      "Stable patients deceased: 36/1225 (2.9387755102%)\n"
     ]
    }
   ],
   "source": [
    "nb_disch_stm_aki = countDeceasedSTM(disch_stm_aki)\n",
    "prv_disch_stm_aki = nb_disch_stm_aki/float(nb_stm_aki)*100\n",
    "nb_disch_stm_con = countDeceasedSTM(disch_stm_con)\n",
    "prv_disch_stm_con = nb_disch_stm_con/float(nb_stm_con)*100\n",
    "print('AKI patients deceased: {}/{} ({}%)'.format(nb_disch_stm_aki, nb_stm_aki, prv_disch_stm_aki))\n",
    "print('Stable patients deceased: {}/{} ({}%)'.format(nb_disch_stm_con, nb_stm_con, prv_disch_stm_con))"
   ]
  },
  {
   "cell_type": "markdown",
   "metadata": {},
   "source": [
    "## Banner's demographics"
   ]
  },
  {
   "cell_type": "code",
   "execution_count": 4,
   "metadata": {
    "collapsed": false
   },
   "outputs": [],
   "source": [
    "fileDir = os.path.dirname('__file__')\n",
    "fname1_banner = os.path.join(fileDir, 'io_banner4', \n",
    "                             'banner_onset_io_tlag006_twin006_aki.pkl')\n",
    "fname2_banner = os.path.join(fileDir, 'io_banner4', \n",
    "                             'banner_onset_io_tlag006_twin006_con.pkl')"
   ]
  },
  {
   "cell_type": "code",
   "execution_count": 5,
   "metadata": {
    "collapsed": false
   },
   "outputs": [],
   "source": [
    "io_aki_banner = pd.read_pickle(fname1_banner)\n",
    "io_con_banner = pd.read_pickle(fname2_banner)"
   ]
  },
  {
   "cell_type": "code",
   "execution_count": 9,
   "metadata": {
    "collapsed": false
   },
   "outputs": [
    {
     "name": "stdout",
     "output_type": "stream",
     "text": [
      "AKI patients: 62\n",
      "AKI stage 1 patients: 56\n",
      "AKI stage 2,3 patients: 6\n",
      "Stable patients: 1593\n",
      "Total patients: 1655\n",
      "AKI prevalence: 3.74622356495\n",
      "Male: 908(54.8640483384%)\n",
      "Female: 747(45.1359516616%)\n",
      "Male in AKI group: 38(61.2903225806%)\n",
      "Female in AKI group: 24(38.7096774194%)\n",
      "Male in Control group: 870(54.6139359699%)\n",
      "Female in Control group: 723(45.3860640301%)\n"
     ]
    }
   ],
   "source": [
    "nb_aki_banner = len(io_aki_banner.encounter_id.unique())\n",
    "nb_aki01_banner = np.sum(io_aki_banner.AKI_stage==1)\n",
    "nb_aki23_banner = np.sum(io_aki_banner.AKI_stage>1)\n",
    "nb_con_banner = len(io_con_banner.encounter_id.unique())\n",
    "nb_tot_banner = nb_aki_banner + nb_con_banner\n",
    "nb_male_aki_banner = np.sum(io_aki_banner.sex=='M')\n",
    "nb_female_aki_banner = np.sum(io_aki_banner.sex=='F')\n",
    "nb_male_con_banner = np.sum(io_con_banner.sex=='M')\n",
    "nb_female_con_banner = np.sum(io_con_banner.sex=='F')\n",
    "nb_male_banner = nb_male_aki_banner + nb_male_con_banner\n",
    "nb_female_banner = nb_female_aki_banner + nb_female_con_banner\n",
    "print('AKI patients: {}'.format(nb_aki_banner))\n",
    "print('AKI stage 1 patients: {}'.format(nb_aki01_banner))\n",
    "print('AKI stage 2,3 patients: {}'.format(nb_aki23_banner))\n",
    "print('Stable patients: {}'.format(nb_con_banner))\n",
    "print('Total patients: {}'.format(nb_tot_banner))\n",
    "print('AKI prevalence: {}'.format(nb_aki_banner/float(nb_tot_banner)*100))\n",
    "print('Male: {}({:}%)'.format(nb_male_banner, nb_male_banner/float(nb_tot_banner)*100))\n",
    "print('Female: {}({}%)'.format(nb_female_banner, nb_female_banner/float(nb_tot_banner)*100))\n",
    "print('Male in AKI group: {}({:}%)'.format(nb_male_aki_banner, nb_male_aki_banner/float(nb_aki_banner)*100))\n",
    "print('Female in AKI group: {}({}%)'.format(nb_female_aki_banner, nb_female_aki_banner/float(nb_aki_banner)*100))\n",
    "print('Male in Control group: {}({:}%)'.format(nb_male_con_banner, nb_male_con_banner/float(nb_con_banner)*100))\n",
    "print('Female in Control group: {}({}%)'.format(nb_female_con_banner, nb_female_con_banner/float(nb_con_banner)*100))\n"
   ]
  },
  {
   "cell_type": "code",
   "execution_count": 52,
   "metadata": {
    "collapsed": false
   },
   "outputs": [
    {
     "data": {
      "text/plain": [
       "0.033836858006042296"
      ]
     },
     "execution_count": 52,
     "metadata": {},
     "output_type": "execute_result"
    }
   ],
   "source": [
    "56/1655."
   ]
  },
  {
   "cell_type": "code",
   "execution_count": 11,
   "metadata": {
    "collapsed": false
   },
   "outputs": [
    {
     "name": "stdout",
     "output_type": "stream",
     "text": [
      "Age of AKI group: 6.95483870968\n",
      "Age of Control group: 6.6329566855\n"
     ]
    }
   ],
   "source": [
    "avg_age_aki_banner = io_aki_banner.age.mean()/365.\n",
    "avg_age_con_banner = io_con_banner.age.mean()/365.\n",
    "print('Age of AKI group: {}'.format(avg_age_aki_banner))\n",
    "print('Age of Control group: {}'.format(avg_age_con_banner))"
   ]
  },
  {
   "cell_type": "code",
   "execution_count": 18,
   "metadata": {
    "collapsed": true
   },
   "outputs": [],
   "source": [
    "cr_df_banner = pd.read_pickle(os.path.join(fileDir, 'item_df_banner', \n",
    "                                           'banner_creatinine_df.pkl'))"
   ]
  },
  {
   "cell_type": "code",
   "execution_count": 23,
   "metadata": {
    "collapsed": false
   },
   "outputs": [],
   "source": [
    "ceid_aki_banner = io_aki_banner.encounter_id.unique().tolist()\n",
    "ceid_con_banner = io_con_banner.encounter_id.unique().tolist()"
   ]
  },
  {
   "cell_type": "code",
   "execution_count": 26,
   "metadata": {
    "collapsed": false
   },
   "outputs": [],
   "source": [
    "cr_df_aki_banner = cr_df_banner.loc[np.in1d(cr_df_banner.ENCNTR_ID, ceid_aki_banner),:]\n",
    "cr_df_con_banner = cr_df_banner.loc[np.in1d(cr_df_banner.ENCNTR_ID, ceid_con_banner),:]\n",
    "\n",
    "los_aki_banner = cr_df_aki_banner.groupby('ENCNTR_ID')['LOSm'].mean()\n",
    "los_con_banner = cr_df_con_banner.groupby('ENCNTR_ID')['LOSm'].mean()"
   ]
  },
  {
   "cell_type": "code",
   "execution_count": 27,
   "metadata": {
    "collapsed": false
   },
   "outputs": [
    {
     "name": "stdout",
     "output_type": "stream",
     "text": [
      "LOS (days) of AKI group: 21.6584453405\n",
      "LOS (days) of Control group: 5.37099375741\n"
     ]
    }
   ],
   "source": [
    "print('LOS (days) of AKI group: {}'.format(np.mean(los_aki_banner)/60./24))\n",
    "print('LOS (days) of Control group: {}'.format(np.mean(los_con_banner)/60./24))"
   ]
  },
  {
   "cell_type": "code",
   "execution_count": 28,
   "metadata": {
    "collapsed": false
   },
   "outputs": [
    {
     "name": "stdout",
     "output_type": "stream",
     "text": [
      "Number of AKI patients on ventilator: 2 (3.22580645161%)\n",
      "Number of Stable patients on ventilator: 2 (0.125549278092%)\n"
     ]
    }
   ],
   "source": [
    "# Get number of patients that were on ventilator by investigating MAP df\n",
    "map_df_banner = pd.read_pickle(os.path.join(fileDir, 'item_df_banner', 'banner_map_df.pkl'))\n",
    "ceid_map_banner = map_df_banner.ENCNTR_ID.unique().tolist()\n",
    "\n",
    "nb_vent_aki_banner = np.sum(np.in1d(ceid_aki_banner, ceid_map_banner))\n",
    "nb_vent_con_banner = np.sum(np.in1d(ceid_con_banner, ceid_map_banner))\n",
    "\n",
    "prv_vent_aki_banner = nb_vent_aki_banner/float(nb_aki_banner)*100\n",
    "prv_vent_con_banner = nb_vent_con_banner/float(nb_con_banner)*100\n",
    "\n",
    "print('Number of AKI patients on ventilator: {} ({}%)'.format(nb_vent_aki_banner, prv_vent_aki_banner))\n",
    "print('Number of Stable patients on ventilator: {} ({}%)'.format(nb_vent_con_banner, prv_vent_con_banner))"
   ]
  },
  {
   "cell_type": "code",
   "execution_count": 49,
   "metadata": {
    "collapsed": false
   },
   "outputs": [],
   "source": [
    "def countDeceasedBanner(disch_df):\n",
    "    count = 0\n",
    "    for idx, row in disch_df.iterrows():\n",
    "        if row.deceased_flag != 0:\n",
    "            count += 1\n",
    "    return count"
   ]
  },
  {
   "cell_type": "code",
   "execution_count": 50,
   "metadata": {
    "collapsed": true
   },
   "outputs": [],
   "source": [
    "disch_aki_banner = cr_df_aki_banner.groupby('ENCNTR_ID')['deceased_flag'].unique()\n",
    "disch_aki_banner = disch_aki_banner.to_frame().reset_index()\n",
    "\n",
    "disch_con_banner = cr_df_con_banner.groupby('ENCNTR_ID')['deceased_flag'].unique()\n",
    "disch_con_banner = disch_con_banner.to_frame().reset_index()"
   ]
  },
  {
   "cell_type": "code",
   "execution_count": 51,
   "metadata": {
    "collapsed": false
   },
   "outputs": [
    {
     "name": "stdout",
     "output_type": "stream",
     "text": [
      "AKI patients deceased: 0/62 (0.0%)\n",
      "Stable patients deceased: 0/1593 (0.0%)\n"
     ]
    }
   ],
   "source": [
    "nb_disch_aki_banner = countDeceasedBanner(disch_aki_banner)\n",
    "prv_disch_aki_banner = nb_disch_aki_banner/float(nb_aki_banner)*100\n",
    "nb_disch_con_banner = countDeceasedBanner(disch_con_banner)\n",
    "prv_disch_con_banner = nb_disch_con_banner/float(nb_con_banner)*100\n",
    "print('AKI patients deceased: {}/{} ({}%)'.format(nb_disch_aki_banner, nb_aki_banner, prv_disch_aki_banner))\n",
    "print('Stable patients deceased: {}/{} ({}%)'.format(nb_disch_con_banner, nb_con_banner, prv_disch_con_banner))"
   ]
  }
 ],
 "metadata": {
  "anaconda-cloud": {},
  "kernelspec": {
   "display_name": "Python [Root]",
   "language": "python",
   "name": "Python [Root]"
  },
  "language_info": {
   "codemirror_mode": {
    "name": "ipython",
    "version": 2
   },
   "file_extension": ".py",
   "mimetype": "text/x-python",
   "name": "python",
   "nbconvert_exporter": "python",
   "pygments_lexer": "ipython2",
   "version": "2.7.11"
  }
 },
 "nbformat": 4,
 "nbformat_minor": 0
}
