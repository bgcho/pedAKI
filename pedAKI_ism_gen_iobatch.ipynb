{
 "cells": [
  {
   "cell_type": "markdown",
   "metadata": {},
   "source": [
    "## Create Creatinine dataframe and I/O dataframe from ISM db\n",
    "* This code loads the creatinine dataframe that was already queried previously.\n",
    "* The creatinine dataframe is then filtered by age, length of stay, minimum stable time from admission. Only the longest encounter is included if patient has more than a single encounter.\n",
    "* Based on the creatinine filtered dataframe, AKI stage is assigned to each creatinine measurement, and AKI onset is defined.\n",
    "* For encounters without AKI onset, reference time is assigned randomly after observation window + prediction window.\n",
    "* I/O dataframe is created by filtering each feature according to the reference time determined from creatinine dataframe, predefined prediction window and observation window. Each feature's dataframe was already queried previosly, but not filtered."
   ]
  },
  {
   "cell_type": "code",
   "execution_count": 5,
   "metadata": {
    "collapsed": false
   },
   "outputs": [],
   "source": [
    "import itertools\n",
    "import pedAKI_ism_gen_scr_io as pakio\n",
    "import numpy as np\n",
    "\n",
    "stable_time = 12\n",
    "timelag_all = list(-1*np.arange(25))\n",
    "timewin_all = [12, 6]\n",
    "\n",
    "combination = [(x,y) for x in timelag_all for y in timewin_all]\n",
    "mask = [abs(x)>=abs(y) for (x,y) in combination]\n",
    "\n",
    "combination = list(itertools.compress(combination,mask))"
   ]
  },
  {
   "cell_type": "code",
   "execution_count": 6,
   "metadata": {
    "collapsed": true
   },
   "outputs": [],
   "source": [
    "import pedAKI_ism_gen_scr_io as pakio"
   ]
  },
  {
   "cell_type": "code",
   "execution_count": 8,
   "metadata": {
    "collapsed": false,
    "scrolled": true
   },
   "outputs": [
    {
     "name": "stdout",
     "output_type": "stream",
     "text": [
      "time lag: -6, time window: 6\n"
     ]
    },
    {
     "ename": "NameError",
     "evalue": "global name 'stop' is not defined",
     "output_type": "error",
     "traceback": [
      "\u001b[1;31m---------------------------------------------------------------------------\u001b[0m",
      "\u001b[1;31mNameError\u001b[0m                                 Traceback (most recent call last)",
      "\u001b[1;32m<ipython-input-8-d25b515e0288>\u001b[0m in \u001b[0;36m<module>\u001b[1;34m()\u001b[0m\n\u001b[0;32m      3\u001b[0m \u001b[1;32mfor\u001b[0m \u001b[0mtlag\u001b[0m\u001b[1;33m,\u001b[0m \u001b[0mtwin\u001b[0m \u001b[1;32min\u001b[0m \u001b[0mcombination\u001b[0m\u001b[1;33m:\u001b[0m\u001b[1;33m\u001b[0m\u001b[0m\n\u001b[0;32m      4\u001b[0m     \u001b[1;32mprint\u001b[0m\u001b[1;33m(\u001b[0m\u001b[1;34m\"time lag: {}, time window: {}\"\u001b[0m\u001b[1;33m.\u001b[0m\u001b[0mformat\u001b[0m\u001b[1;33m(\u001b[0m\u001b[0mtlag\u001b[0m\u001b[1;33m,\u001b[0m \u001b[0mtwin\u001b[0m\u001b[1;33m)\u001b[0m\u001b[1;33m)\u001b[0m\u001b[1;33m\u001b[0m\u001b[0m\n\u001b[1;32m----> 5\u001b[1;33m     \u001b[0mpakio\u001b[0m\u001b[1;33m.\u001b[0m\u001b[0mgenIO_onset\u001b[0m\u001b[1;33m(\u001b[0m\u001b[0mtlag\u001b[0m\u001b[1;33m,\u001b[0m \u001b[0mtwin\u001b[0m\u001b[1;33m,\u001b[0m \u001b[0mstable_time\u001b[0m\u001b[1;33m)\u001b[0m\u001b[1;33m\u001b[0m\u001b[0m\n\u001b[0m",
      "\u001b[1;32mC:\\Users\\310248864\\pedAKI\\src\\pedAKI_predictor\\pedAKI_ism_gen_scr_io.pyc\u001b[0m in \u001b[0;36mgenIO_onset\u001b[1;34m(timelag, timewin, stable_time)\u001b[0m\n\u001b[0;32m     33\u001b[0m     \u001b[0mpath2chartitem_csv\u001b[0m \u001b[1;33m=\u001b[0m \u001b[0mos\u001b[0m\u001b[1;33m.\u001b[0m\u001b[0mpath\u001b[0m\u001b[1;33m.\u001b[0m\u001b[0mjoin\u001b[0m\u001b[1;33m(\u001b[0m\u001b[0mfileDir\u001b[0m\u001b[1;33m,\u001b[0m \u001b[1;34m\"csv_files\"\u001b[0m\u001b[1;33m,\u001b[0m \u001b[1;34m\"chartitem.csv\"\u001b[0m\u001b[1;33m)\u001b[0m\u001b[1;33m\u001b[0m\u001b[0m\n\u001b[0;32m     34\u001b[0m     \u001b[0mlist_suff\u001b[0m \u001b[1;33m=\u001b[0m \u001b[0mpickle\u001b[0m\u001b[1;33m.\u001b[0m\u001b[0mload\u001b[0m\u001b[1;33m(\u001b[0m\u001b[0mopen\u001b[0m\u001b[1;33m(\u001b[0m\u001b[0mos\u001b[0m\u001b[1;33m.\u001b[0m\u001b[0mpath\u001b[0m\u001b[1;33m.\u001b[0m\u001b[0mjoin\u001b[0m\u001b[1;33m(\u001b[0m\u001b[0mfileDir\u001b[0m\u001b[1;33m,\u001b[0m \u001b[1;34m'pickle_files'\u001b[0m\u001b[1;33m,\u001b[0m \u001b[1;34m'feature_stats.pkl'\u001b[0m\u001b[1;33m)\u001b[0m\u001b[1;33m,\u001b[0m \u001b[1;34m'rb'\u001b[0m\u001b[1;33m)\u001b[0m\u001b[1;33m)\u001b[0m\u001b[1;33m\u001b[0m\u001b[0m\n\u001b[1;32m---> 35\u001b[1;33m     \u001b[0mstop\u001b[0m\u001b[1;33m\u001b[0m\u001b[0m\n\u001b[0m\u001b[0;32m     36\u001b[0m     \u001b[1;31m# list_suff = pickle.load(f)\u001b[0m\u001b[1;33m\u001b[0m\u001b[1;33m\u001b[0m\u001b[0m\n\u001b[0;32m     37\u001b[0m \u001b[1;33m\u001b[0m\u001b[0m\n",
      "\u001b[1;31mNameError\u001b[0m: global name 'stop' is not defined"
     ]
    }
   ],
   "source": [
    "reload(pakio)\n",
    "\n",
    "for tlag, twin in combination:\n",
    "    print(\"time lag: {}, time window: {}\".format(tlag, twin))\n",
    "    pakio.genIO_onset(tlag, twin, stable_time)"
   ]
  }
 ],
 "metadata": {
  "anaconda-cloud": {},
  "kernelspec": {
   "display_name": "Python [Root]",
   "language": "python",
   "name": "Python [Root]"
  },
  "language_info": {
   "codemirror_mode": {
    "name": "ipython",
    "version": 2
   },
   "file_extension": ".py",
   "mimetype": "text/x-python",
   "name": "python",
   "nbconvert_exporter": "python",
   "pygments_lexer": "ipython2",
   "version": "2.7.11"
  }
 },
 "nbformat": 4,
 "nbformat_minor": 0
}
