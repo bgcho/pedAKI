{
 "cells": [
  {
   "cell_type": "markdown",
   "metadata": {},
   "source": [
    "### Check UOM in ISM db"
   ]
  },
  {
   "cell_type": "code",
   "execution_count": 1,
   "metadata": {
    "collapsed": false
   },
   "outputs": [],
   "source": [
    "import numpy as np\n",
    "import sys, os\n",
    "import pandas as pd\n",
    "\n",
    "import ism_utilities_Ben as ism\n",
    "reload(ism)\n",
    "\n",
    "ismdb = ism.queryISM();"
   ]
  },
  {
   "cell_type": "code",
   "execution_count": 3,
   "metadata": {
    "collapsed": false,
    "scrolled": true
   },
   "outputs": [
    {
     "name": "stderr",
     "output_type": "stream",
     "text": [
      "C:\\Users\\310248864\\AppData\\Local\\Continuum\\Anaconda2\\lib\\site-packages\\pandas\\core\\indexing.py:288: SettingWithCopyWarning: \n",
      "A value is trying to be set on a copy of a slice from a DataFrame.\n",
      "Try using .loc[row_indexer,col_indexer] = value instead\n",
      "\n",
      "See the caveats in the documentation: http://pandas.pydata.org/pandas-docs/stable/indexing.html#indexing-view-versus-copy\n",
      "  self.obj[key] = _infer_fill_value(value)\n",
      "C:\\Users\\310248864\\AppData\\Local\\Continuum\\Anaconda2\\lib\\site-packages\\pandas\\core\\indexing.py:465: SettingWithCopyWarning: \n",
      "A value is trying to be set on a copy of a slice from a DataFrame.\n",
      "Try using .loc[row_indexer,col_indexer] = value instead\n",
      "\n",
      "See the caveats in the documentation: http://pandas.pydata.org/pandas-docs/stable/indexing.html#indexing-view-versus-copy\n",
      "  self.obj[item] = s\n"
     ]
    },
    {
     "name": "stdout",
     "output_type": "stream",
     "text": [
      "Hemoglobin uom in ChartItems table: 0    Hemoglobin\n",
      "Name: label, dtype: object\n",
      "Hemoglobin uom in the uom column: [None]\n",
      "There are 267161 rows with null uom in the Hemoglobin table\n",
      "uom in the annotation column is ['g/dl']\n",
      "number of rows that don't have uom in the annotation column is 209\n",
      "annotation for null-uom rows is [None '(NOVA) USED FOR C.O.' 'ABG' 'BY ARTERIAL BLOOD GAS'\n",
      " 'LAB RESULTS ERRONEOUSLY POSTED TOTHIS PATIENT.  NO CBC WAS SENT AT21:00.'\n",
      " 'Laboratory Comments Available.'\n",
      " 'Laboratory Comments Available.Laboratory Comments Available.' 'NOVA'\n",
      " 'NOVA -- USED FOR C.O.' 'ON NOVA' 'PER ABG'\n",
      " 'Reported to on-coming RN. Samewith Hct.' 'dr obrien and dr li aware'\n",
      " 'from ABG' 'peritoneal fluid' 'results on admission' 'see 0000'\n",
      " 'verbal per lab']\n"
     ]
    }
   ],
   "source": [
    "ismdb.checkUom(1501, 1, 'Hemoglobin')"
   ]
  }
 ],
 "metadata": {
  "kernelspec": {
   "display_name": "Python [Root]",
   "language": "python",
   "name": "Python [Root]"
  },
  "language_info": {
   "codemirror_mode": {
    "name": "ipython",
    "version": 2
   },
   "file_extension": ".py",
   "mimetype": "text/x-python",
   "name": "python",
   "nbconvert_exporter": "python",
   "pygments_lexer": "ipython2",
   "version": "2.7.11"
  }
 },
 "nbformat": 4,
 "nbformat_minor": 0
}
