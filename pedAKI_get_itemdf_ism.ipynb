{
 "cells": [
  {
   "cell_type": "markdown",
   "metadata": {},
   "source": [
    "### Script to query Each items from ISM db\n",
    "* Running this piece of code before starting the analysis significantly reduces the time consuming querying process.\n",
    "* This script first queries the creatinine from ISM db and creates a list of encounters of interest for pedAKI.\n",
    "* Then queries other features for only the encounters that have creatinine measurements\n",
    "* Then saves each dataframe in a designated directory."
   ]
  },
  {
   "cell_type": "code",
   "execution_count": 1,
   "metadata": {
    "collapsed": true
   },
   "outputs": [],
   "source": [
    "import pandas as pd\n",
    "import pickle\n",
    "import os\n",
    "import numpy as np\n",
    "import ism_utilities_Ben as ism"
   ]
  },
  {
   "cell_type": "code",
   "execution_count": 2,
   "metadata": {
    "collapsed": false
   },
   "outputs": [],
   "source": [
    "reload(ism)\n",
    "ismdb = ism.queryISM()"
   ]
  },
  {
   "cell_type": "code",
   "execution_count": 3,
   "metadata": {
    "collapsed": true
   },
   "outputs": [],
   "source": [
    "fileDir = os.path.dirname('__file__')"
   ]
  },
  {
   "cell_type": "code",
   "execution_count": 4,
   "metadata": {
    "collapsed": false
   },
   "outputs": [
    {
     "name": "stderr",
     "output_type": "stream",
     "text": [
      "C:\\Users\\310248864\\AppData\\Local\\Continuum\\Anaconda2\\lib\\site-packages\\pandas\\core\\indexing.py:288: SettingWithCopyWarning: \n",
      "A value is trying to be set on a copy of a slice from a DataFrame.\n",
      "Try using .loc[row_indexer,col_indexer] = value instead\n",
      "\n",
      "See the caveats in the documentation: http://pandas.pydata.org/pandas-docs/stable/indexing.html#indexing-view-versus-copy\n",
      "  self.obj[key] = _infer_fill_value(value)\n",
      "C:\\Users\\310248864\\AppData\\Local\\Continuum\\Anaconda2\\lib\\site-packages\\pandas\\core\\indexing.py:465: SettingWithCopyWarning: \n",
      "A value is trying to be set on a copy of a slice from a DataFrame.\n",
      "Try using .loc[row_indexer,col_indexer] = value instead\n",
      "\n",
      "See the caveats in the documentation: http://pandas.pydata.org/pandas-docs/stable/indexing.html#indexing-view-versus-copy\n",
      "  self.obj[item] = s\n"
     ]
    }
   ],
   "source": [
    "# scr_dic = {'creatinine': {'itemid': [1461], 'valcol': [1], 'uomstr': ['mg/dL']}}\n",
    "\n",
    "scrdf = ismdb.getItemData(1461, 1,'mg/dL', unique_census_time=True, in_anno=True)"
   ]
  },
  {
   "cell_type": "code",
   "execution_count": 5,
   "metadata": {
    "collapsed": false
   },
   "outputs": [],
   "source": [
    "# scrdf.to_pickle(os.path.join(fileDir, 'item_df_ism', 'ism_creatinine_df.pkl'))\n",
    "encounter_ids = np.array(scrdf.encounter_id.unique())"
   ]
  },
  {
   "cell_type": "code",
   "execution_count": 6,
   "metadata": {
    "collapsed": false
   },
   "outputs": [],
   "source": [
    "item_dic = {'hr': {'itemid': [602], 'valcol': [1], 'uomstr': ['bpm']}, \n",
    "            'nsbp': {'itemid': [764], 'valcol': [1], 'uomstr': ['mmHg']}, \n",
    "            'ndbp': {'itemid': [764], 'valcol': [2], 'uomstr': ['mmHg']},\n",
    "            'spo2': {'itemid': [1065, 23540], 'valcol': [1, 1], 'uomstr': ['%', '%']},\n",
    "            'pao2': {'itemid': [1591, 3103], 'valcol': [1, 1], 'uomstr': ['mmHg', 'mmHg']},\n",
    "            'map': {'itemid': [746], 'valcol': [1], 'uomstr': ['mmHg']}, \n",
    "            'fio2': {'itemid': [501], 'valcol': [1], 'uomstr': ['fraction']},\n",
    "            'ratio_pao2_flo2': {'itemid': [902], 'valcol': [1], 'uomstr': [None]},\n",
    "            'hemoglobin': {'itemid': [1501], 'valcol': [1], 'uomstr': ['g/dL']},\n",
    "            'temperature': {'itemid': [1139], 'valcol': [2], 'uomstr': ['C']},\n",
    "            'wbc': {'itemid': [1725], 'valcol': [1], 'uomstr': ['K/uL']},\n",
    "            'platelet': {'itemid': [1598], 'valcol': [1], 'uomstr': ['K/uL']},\n",
    "            'bilirubin': {'itemid': [1379], 'valcol': [1], 'uomstr': ['mg/dL']},\n",
    "            'albumin': {'itemid': [1349], 'valcol': [1], 'uomstr': ['g/dL']},\n",
    "            'ph': {'itemid': [1730, 3115], 'valcol': [1, 1], 'uomstr': [None, None]},\n",
    "            'urine': {'itemid': [1199], 'valcol': [1], 'uomstr': ['cc/kg/hr']},\n",
    "            'potassium': {'itemid': [1604, 1605, 4174], 'valcol': [1, 1, 1], 'uomstr': ['meq/L', 'meq/L', 'meq/L']},\n",
    "            'calcium': {'itemid': [1433], 'valcol': [1], 'uomstr': ['mg/dL']},\n",
    "            'glucose': {'itemid': [1489, 4161, 4473], 'valcol': [1, 1, 1], 'uomstr': ['mg/dL', 'mg/dL', 'mg/dL']},\n",
    "            'race': {'itemid': [1981], 'valcol': [1], 'uomstr': [None]},\n",
    "            'creatinine': {'itemid': [1461], 'valcol': [1], 'uomstr': ['mg/dL']},\n",
    "            'lactic_acid': {'itemid': [1531, 8657, 22851], 'valcol': [1, 1, 1], 'uomstr': ['mg/dL', 'mg/dL', 'mg/dL']},\n",
    "            'bun': {'itemid': [1366], 'valcol': [1], 'uomstr': ['mg/dL']},\n",
    "            }\n",
    "# item_dic = {'map': {'itemid': [746], 'valcol': [1], 'uomstr': ['mmHg']}}"
   ]
  },
  {
   "cell_type": "code",
   "execution_count": 7,
   "metadata": {
    "collapsed": false
   },
   "outputs": [
    {
     "name": "stdout",
     "output_type": "stream",
     "text": [
      "Querying map\n"
     ]
    }
   ],
   "source": [
    "if not os.path.exists(os.path.join(fileDir, 'item_df_ism')):\n",
    "        os.makedirs(os.path.join(fileDir, 'item_df_ism'))\n",
    "        \n",
    "for item in item_dic:\n",
    "    fname = os.path.join(fileDir, 'item_df_ism', 'ism_'+item+'_df.pkl')\n",
    "    if not os.path.exists(fname):\n",
    "        print('Querying {}'.format(item))\n",
    "        itemids = item_dic[item]['itemid']\n",
    "        valcols = item_dic[item]['valcol']\n",
    "        uomstrs = item_dic[item]['uomstr']\n",
    "\n",
    "        itemdf = pd.DataFrame()\n",
    "        for itemid, valcol, uomstr in zip(itemids, valcols, uomstrs):\n",
    "            df = ismdb.getItemData(itemid, valcol, uom_str=uomstr, encounter_list=encounter_ids, \n",
    "                                   unique_census_time=True, in_anno=True)\n",
    "            if itemdf.empty:\n",
    "                itemdf = df\n",
    "            else:\n",
    "                itemdf = pd.concat([itemdf, df], axis=0)\n",
    "\n",
    "            itemdf.to_pickle(fname)"
   ]
  }
 ],
 "metadata": {
  "anaconda-cloud": {},
  "kernelspec": {
   "display_name": "Python [Root]",
   "language": "python",
   "name": "Python [Root]"
  },
  "language_info": {
   "codemirror_mode": {
    "name": "ipython",
    "version": 2
   },
   "file_extension": ".py",
   "mimetype": "text/x-python",
   "name": "python",
   "nbconvert_exporter": "python",
   "pygments_lexer": "ipython2",
   "version": "2.7.11"
  }
 },
 "nbformat": 4,
 "nbformat_minor": 0
}
