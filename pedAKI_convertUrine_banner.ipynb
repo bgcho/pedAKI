{
 "cells": [
  {
   "cell_type": "markdown",
   "metadata": {},
   "source": [
    "### Calculate the urine output (cc/kg/hr) from urine output (cc) time series and weight\n",
    "**Caution**: After running all the cells except the last cell, make sure you save the original banner_urine_df.pkl file, which contains urine output in cc, as a different file name. The last cell will overwrite banner_urine_df.pkl with the calculated urine output rage per weight (cc/kg/hr). \n"
   ]
  },
  {
   "cell_type": "code",
   "execution_count": 63,
   "metadata": {
    "collapsed": true
   },
   "outputs": [],
   "source": [
    "import os\n",
    "import pandas as pd\n",
    "import numpy as np\n",
    "import pickle\n",
    "fileDir = os.path.dirname('__file__')"
   ]
  },
  {
   "cell_type": "code",
   "execution_count": 64,
   "metadata": {
    "collapsed": true
   },
   "outputs": [],
   "source": [
    "def calRate(group):\n",
    "    group['urine_rate'] = np.NaN\n",
    "    \n",
    "    urine_output = group.urine_output.tolist()\n",
    "    dtime_hr = (group.loc[:, 'charttime']\n",
    "                - group.loc[group.index[0], 'charttime']).astype('timedelta64[m]') / 60\n",
    "    dtime_hr = np.array(dtime_hr.tolist())\n",
    "    dtime_hr = dtime_hr[1:]-dtime_hr[:-1]\n",
    "    \n",
    "    rate = np.divide(urine_output[1:], dtime_hr)\n",
    "    group.urine_rate[group.index[1:]] = rate\n",
    "    return group\n",
    "    \n",
    "def UrineRatePerWeight(urine_df):\n",
    "    urine_df.sort_values(by=['encounter_id', 'charttime'], inplace=True)\n",
    "    urine_df = urine_df.groupby('encounter_id').apply(calRate)\n",
    "    urine_df['urine_rate_per_weight'] = urine_df['urine_rate'].div(urine_df.weight, axis=0)\n",
    "    return urine_df\n",
    "\n",
    "fromDir = 'io_banner'\n",
    "toDir = 'io_banner2'\n",
    "weight_df = pd.read_pickle(os.path.join(fileDir, 'item_df_banner', 'banner_weight_df.pkl'))\n",
    "weight_df_uq = weight_df.groupby('ENCNTR_ID')['RESULT_VAL_num'].mean().to_frame().reset_index()\n",
    "weight_df_uq.rename(columns={'ENCNTR_ID': 'encounter_id', 'RESULT_VAL_num': 'weight'}, inplace=True)\n",
    "\n",
    "urine_df = pd.read_pickle(os.path.join(fileDir, 'item_df_banner', 'banner_urine_df.pkl'))\n",
    "urine_df.rename(columns={'ENCNTR_ID': 'encounter_id', \n",
    "                         'RESULT_VAL_num': 'urine_output',\n",
    "                         'EVENT_END_DT_TM': 'charttime'}, inplace=True)\n",
    "urine_df = urine_df.merge(weight_df_uq, on='encounter_id', how='left')\n",
    "urine_df = UrineRatePerWeight(urine_df)"
   ]
  },
  {
   "cell_type": "code",
   "execution_count": 65,
   "metadata": {
    "collapsed": false
   },
   "outputs": [
    {
     "data": {
      "text/plain": [
       "Index([u'EVENT_CD', u'RESULT_UNITS_CD', u'encounter_id', u'MRN', u'EVENT_ID',\n",
       "       u'EVENT_NAME', u'EVENT_MEASURE', u'charttime', u'ORDER_ID',\n",
       "       u'urine_output', u'weight', u'urine_rate', u'urine_rate_per_weight'],\n",
       "      dtype='object')"
      ]
     },
     "execution_count": 65,
     "metadata": {},
     "output_type": "execute_result"
    }
   ],
   "source": [
    "urine_df.columns"
   ]
  },
  {
   "cell_type": "code",
   "execution_count": 66,
   "metadata": {
    "collapsed": true
   },
   "outputs": [],
   "source": [
    "urine_df.rename(columns={'encounter_id': 'ENCNTR_ID', \n",
    "                         'charttime': 'EVENT_END_DT_TM',\n",
    "                         'urine_rate_per_weight': 'RESULT_VAL_num'}, inplace=True)"
   ]
  },
  {
   "cell_type": "markdown",
   "metadata": {},
   "source": [
    "** Be careful before running below cell**"
   ]
  },
  {
   "cell_type": "code",
   "execution_count": 67,
   "metadata": {
    "collapsed": false
   },
   "outputs": [],
   "source": [
    "overwrite = False\n",
    "if overwrite:\n",
    "    urine_df.to_pickle(os.path.join(fileDir, 'item_df_banner', 'banner_urine_df.pkl'))"
   ]
  }
 ],
 "metadata": {
  "kernelspec": {
   "display_name": "Python [Root]",
   "language": "python",
   "name": "Python [Root]"
  },
  "language_info": {
   "codemirror_mode": {
    "name": "ipython",
    "version": 2
   },
   "file_extension": ".py",
   "mimetype": "text/x-python",
   "name": "python",
   "nbconvert_exporter": "python",
   "pygments_lexer": "ipython2",
   "version": "2.7.11"
  }
 },
 "nbformat": 4,
 "nbformat_minor": 0
}
