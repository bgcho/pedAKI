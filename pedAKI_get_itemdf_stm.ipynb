{
 "cells": [
  {
   "cell_type": "markdown",
   "metadata": {},
   "source": [
    "### Script to query Each items from STM db\n",
    "* Running this piece of code before starting the analysis significantly reduces the time consuming querying process.\n",
    "* This script qeuries the STM dB for each feature. (Not filtered by list of encounters of interest.)\n",
    "* Then saves each dataframe in a designated directory."
   ]
  },
  {
   "cell_type": "code",
   "execution_count": 1,
   "metadata": {
    "collapsed": true
   },
   "outputs": [],
   "source": [
    "import pandas as pd\n",
    "import pickle\n",
    "import os\n",
    "import numpy as np\n",
    "import stm_utilities as stm"
   ]
  },
  {
   "cell_type": "code",
   "execution_count": 2,
   "metadata": {
    "collapsed": true
   },
   "outputs": [],
   "source": [
    "fileDir = os.path.dirname('__file__')"
   ]
  },
  {
   "cell_type": "code",
   "execution_count": 3,
   "metadata": {
    "collapsed": true
   },
   "outputs": [],
   "source": [
    "stmdb = stm.queryDB()"
   ]
  },
  {
   "cell_type": "code",
   "execution_count": 4,
   "metadata": {
    "collapsed": false
   },
   "outputs": [],
   "source": [
    "f = open(os.path.join(fileDir, 'pickle_files_stm', 'feature_dict_stm.pkl'), 'rb')\n",
    "item_dic = pickle.load(f)\n",
    "f.close()"
   ]
  },
  {
   "cell_type": "code",
   "execution_count": 5,
   "metadata": {
    "collapsed": false
   },
   "outputs": [],
   "source": [
    "item_pedAKI = ['albumin', 'creatinine', 'fio2', 'glucose', \n",
    "               'hemoglobin', 'hr', 'lactic_acid', 'map', \n",
    "               'ndbp', 'nsbp', 'pao2', 'ph', 'platelet', 'potassium', \n",
    "               'ratio_pao2_flo2', 'sao2', 'spo2', 'temperature', \n",
    "               'urine', 'wbc']\n",
    "item_dic_pedAKI = {item: item_dic[item] for item in item_pedAKI}"
   ]
  },
  {
   "cell_type": "code",
   "execution_count": 14,
   "metadata": {
    "collapsed": false
   },
   "outputs": [
    {
     "data": {
      "text/plain": [
       "{'creatinine': {'attr_concept_code': [113075003],\n",
       "  'intv_concept_code': [113075003]}}"
      ]
     },
     "execution_count": 14,
     "metadata": {},
     "output_type": "execute_result"
    }
   ],
   "source": [
    "item_dic_pedAKI = {item: item_dic[item] for item in ['creatinine']}\n",
    "item_dic_pedAKI"
   ]
  },
  {
   "cell_type": "code",
   "execution_count": 16,
   "metadata": {
    "collapsed": false
   },
   "outputs": [
    {
     "name": "stdout",
     "output_type": "stream",
     "text": [
      "Querying creatinine\n"
     ]
    }
   ],
   "source": [
    "if not os.path.exists(fileDir, 'item_df_stm'):\n",
    "    os.makedirs(os.path.join(fileDir, 'item_df_stm'))\n",
    "    \n",
    "for item in item_dic_pedAKI:\n",
    "    \n",
    "    fname = os.path.join(fileDir, 'item_df_stm', 'stm_'+item+'_df.pkl')    \n",
    "    if not os.path.exists(fname):\n",
    "        print('Querying {}'.format(item))\n",
    "        feature_id = item_dic_pedAKI[item]\n",
    "        itemdf = stmdb.getFeatureData(feature_ids=feature_id)\n",
    "        itemdf.to_pickle(fname)\n",
    "#     itemids = item_dic[item]['itemid']\n",
    "#     valcols = item_dic[item]['valcol']\n",
    "#     uomstrs = item_dic[item]['uomstr']\n",
    "    \n",
    "#     itemdf = pd.DataFrame()\n",
    "#     for itemid, valcol, uomstr in zip(itemids, valcols, uomstrs):\n",
    "#         df = ismdb.getItemData(itemid, valcol, uom_str=uomstr, \n",
    "#                                unique_census_time=True, in_anno=True)\n",
    "#         if itemdf.empty:\n",
    "#             itemdf = df\n",
    "#         else:\n",
    "#             itemdf = pd.concat([itemdf, df], axis=0)\n",
    "#         fname = os.path.join(fileDir, 'item_df_ism', 'ism_'+item+'_df.pkl')\n",
    "#         itemdf.to_pickle(fname)"
   ]
  },
  {
   "cell_type": "code",
   "execution_count": 13,
   "metadata": {
    "collapsed": false
   },
   "outputs": [
    {
     "data": {
      "text/plain": [
       "Index([u'id', u'encounter_id', u'attr_concept_code', u'attr_concept_label',\n",
       "       u'attr_short_label', u'attr_long_label', u'intv_concept_code',\n",
       "       u'intv_concept_label', u'intv_short_label', u'intv_long_label',\n",
       "       u'value', u'valueUOM', u'tstamp'],\n",
       "      dtype='object')"
      ]
     },
     "execution_count": 13,
     "metadata": {},
     "output_type": "execute_result"
    }
   ],
   "source": [
    "itemdf.columns"
   ]
  }
 ],
 "metadata": {
  "kernelspec": {
   "display_name": "Python [Root]",
   "language": "python",
   "name": "Python [Root]"
  },
  "language_info": {
   "codemirror_mode": {
    "name": "ipython",
    "version": 2
   },
   "file_extension": ".py",
   "mimetype": "text/x-python",
   "name": "python",
   "nbconvert_exporter": "python",
   "pygments_lexer": "ipython2",
   "version": "2.7.11"
  }
 },
 "nbformat": 4,
 "nbformat_minor": 0
}
