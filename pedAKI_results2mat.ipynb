{
 "cells": [
  {
   "cell_type": "markdown",
   "metadata": {},
   "source": [
    "### Convert Logistic regression results from pkl to mat files"
   ]
  },
  {
   "cell_type": "code",
   "execution_count": 1,
   "metadata": {
    "collapsed": false
   },
   "outputs": [],
   "source": [
    "%matplotlib inline\n",
    "import os\n",
    "import pandas as pd\n",
    "import numpy as np\n",
    "from scipy import signal, stats, io\n",
    "import pedAKI_predictor as ppaki\n",
    "from sklearn.metrics import auc, roc_curve\n",
    "import itertools\n",
    "import pickle\n",
    "\n",
    "fileDir = os.path.dirname(\"__file__\")"
   ]
  },
  {
   "cell_type": "code",
   "execution_count": 2,
   "metadata": {
    "collapsed": false
   },
   "outputs": [],
   "source": [
    "fname_logreg = list()\n",
    "# fname_logreg.append(os.path.join(fileDir, 'results_logreg3', 'logreg_ism_only_all_train0.pkl'))\n",
    "# fname_logreg.append(os.path.join(fileDir, 'results_logreg3', 'logreg_train_ism_test_stm_all_train0.pkl'))\n",
    "fname_logreg.append(os.path.join(fileDir, 'results_logreg4', 'logreg_ism_only_last_manual018_train0.pkl'))\n",
    "fname_logreg.append(os.path.join(fileDir, 'results_logreg4', 'logreg_train_ism_test_stm_last_manual018_train0.pkl'))\n",
    "# fname_logreg.append(os.path.join(fileDir, 'results_logreg3', 'logreg_ism_only_top10_all_train0.pkl'))\n",
    "# fname_logreg.append(os.path.join(fileDir, 'results_logreg3', 'logreg_train_ism_test_stm_top10_all_train0.pkl'))\n",
    "# fname_logreg.append(os.path.join(fileDir, 'results_logreg3', 'logreg_ism_only_top10_last_train0.pkl'))\n",
    "# fname_logreg.append(os.path.join(fileDir, 'results_logreg3', 'logreg_train_ism_test_stm_top10_last_train0.pkl'))\n",
    "# fname_logreg.append(os.path.join(fileDir, 'results_logreg3', 'logreg_ism_only_top15_all_train0.pkl'))\n",
    "# fname_logreg.append(os.path.join(fileDir, 'results_logreg3', 'logreg_train_ism_test_stm_top15_all_train0.pkl'))\n",
    "# fname_logreg.append(os.path.join(fileDir, 'results_logreg3', 'logreg_ism_only_top15_last_train0.pkl'))\n",
    "# fname_logreg.append(os.path.join(fileDir, 'results_logreg3', 'logreg_train_ism_test_stm_top15_last_train0.pkl'))\n",
    "# fname_logreg.append(os.path.join(fileDir, 'results_logreg2', 'logreg_across_inner.pkl'))\n",
    "# fname_logreg.append(os.path.join(fileDir, 'results_logreg2', 'logreg_across_outer.pkl'))"
   ]
  },
  {
   "cell_type": "code",
   "execution_count": 3,
   "metadata": {
    "collapsed": false
   },
   "outputs": [],
   "source": [
    "for fname in fname_logreg:\n",
    "    f = open(fname, 'rb')\n",
    "    data = pickle.load(f)\n",
    "    f.close()\n",
    "    comb = data.keys()\n",
    "    \n",
    "    lag_006 = [tlag for tlag, twin in comb if twin==6]\n",
    "    lag_012 = [tlag for tlag, twin in comb if twin==12]\n",
    "    auc_006 = [data[(tlag, twin)]['test auc'] for tlag, twin in comb if twin==6]\n",
    "    auc_012 = [data[(tlag, twin)]['test auc'] for tlag, twin in comb if twin==12]\n",
    "    fpr_006 = [data[(tlag, twin)]['roc'][0] for tlag, twin in comb if twin==6]\n",
    "    tpr_006 = [data[(tlag, twin)]['roc'][1] for tlag, twin in comb if twin==6]\n",
    "    thr_006 = [data[(tlag, twin)]['roc'][2] for tlag, twin in comb if twin==6]\n",
    "    fpr_012 = [data[(tlag, twin)]['roc'][0] for tlag, twin in comb if twin==12]\n",
    "    tpr_012 = [data[(tlag, twin)]['roc'][1] for tlag, twin in comb if twin==12]\n",
    "    thr_012 = [data[(tlag, twin)]['roc'][2] for tlag, twin in comb if twin==12]\n",
    "    \n",
    "    \n",
    "    io.savemat(fname[:-3]+'mat', {'lag_006': lag_006,\n",
    "                                  'lag_012': lag_012,\n",
    "                                  'auc_006': auc_006, \n",
    "                                  'auc_012': auc_012, \n",
    "                                  'fpr_006': fpr_006, \n",
    "                                  'tpr_006': tpr_006,\n",
    "                                  'thr_006': thr_006, \n",
    "                                  'fpr_012': fpr_012, \n",
    "                                  'tpr_012': tpr_012,\n",
    "                                  'thr_012': thr_012\n",
    "                                 })\n",
    "    "
   ]
  }
 ],
 "metadata": {
  "anaconda-cloud": {},
  "kernelspec": {
   "display_name": "Python [Root]",
   "language": "python",
   "name": "Python [Root]"
  },
  "language_info": {
   "codemirror_mode": {
    "name": "ipython",
    "version": 2
   },
   "file_extension": ".py",
   "mimetype": "text/x-python",
   "name": "python",
   "nbconvert_exporter": "python",
   "pygments_lexer": "ipython2",
   "version": "2.7.11"
  }
 },
 "nbformat": 4,
 "nbformat_minor": 0
}
